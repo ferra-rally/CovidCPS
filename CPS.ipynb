{
 "cells": [
  {
   "cell_type": "code",
   "execution_count": 2,
   "metadata": {},
   "outputs": [],
   "source": [
    "import numpy as np\n",
    "import pandas as pd\n",
    "from datetime import datetime\n",
    "from datetime import timedelta\n",
    "import math"
   ]
  },
  {
   "cell_type": "code",
   "execution_count": 3,
   "metadata": {},
   "outputs": [],
   "source": [
    "#Fetch DataFrame from github csv\n",
    "URL = \"https://raw.githubusercontent.com/CSSEGISandData/COVID-19/master/csse_covid_19_data/csse_covid_19_time_series/time_series_covid19_confirmed_global.csv\"\n",
    "df = pd.read_csv(URL)"
   ]
  },
  {
   "cell_type": "code",
   "execution_count": 173,
   "metadata": {},
   "outputs": [
    {
     "name": "stdout",
     "output_type": "stream",
     "text": [
      "                  Province/State Country/Region  2/5/21\n",
      "8   Australian Capital Territory      Australia     118\n",
      "9                New South Wales      Australia    5119\n",
      "10            Northern Territory      Australia     101\n",
      "11                    Queensland      Australia    1311\n",
      "12               South Australia      Australia     602\n",
      "13                      Tasmania      Australia     234\n",
      "14                      Victoria      Australia   20456\n",
      "15             Western Australia      Australia     907\n"
     ]
    },
    {
     "data": {
      "text/plain": [
       "28848"
      ]
     },
     "execution_count": 173,
     "metadata": {},
     "output_type": "execute_result"
    }
   ],
   "source": [
    "#Just a test on sum\n",
    "df1 = df.loc[(df['Province/State'].notna()) & (df1['Country/Region'] == 'Australia')][['Province/State','Country/Region', '2/5/21']]\n",
    "#filtered result\n",
    "print(df1)\n",
    "#check sum\n",
    "df1['2/5/21'].sum()\n",
    "#df"
   ]
  },
  {
   "cell_type": "code",
   "execution_count": 154,
   "metadata": {},
   "outputs": [
    {
     "name": "stdout",
     "output_type": "stream",
     "text": [
      "Done\n"
     ]
    }
   ],
   "source": [
    "/#Format the DataFrame\n",
    "countries = df['Country/Region'].unique()\n",
    "days = df.columns[4:]\n",
    "\n",
    "list = []\n",
    "\n",
    "#Convert dates to ISO format\n",
    "for country in countries:\n",
    "    for day in days:\n",
    "        date_obj = datetime.strptime(day, '%m/%d/%y')\n",
    "        iso_date = date_obj.strftime('%Y-%m-%d')\n",
    "        #Need sum because there are more states for some country\n",
    "        sum = df.loc[df['Country/Region'] == country][day].sum()\n",
    "        list.append({\"Country\" : country, \"Date\" : iso_date, \"Confirmed\" : sum})\n",
    "        \n",
    "print(\"Done\")"
   ]
  },
  {
   "cell_type": "code",
   "execution_count": 149,
   "metadata": {},
   "outputs": [],
   "source": [
    "df_formatted = pd.DataFrame(list)\n",
    "print(df_formatted)\n",
    "#Control test on 2021-02-05\n",
    "df_formatted.loc[(df_formatted['Country'] == 'Australia') & (df_formatted['Date'] == '2021-02-05')]"
   ]
  },
  {
   "cell_type": "code",
   "execution_count": 7,
   "metadata": {},
   "outputs": [
    {
     "name": "stdout",
     "output_type": "stream",
     "text": [
      "Done\n"
     ]
    }
   ],
   "source": [
    "#Format the DataFrame with new confirmed\n",
    "countries = df['Country/Region'].unique()\n",
    "#TODO days is ordered(?)\n",
    "days = df.columns[4:]\n",
    "list = []\n",
    "\n",
    "#TODO nan value on confirmed(?)\n",
    "\n",
    "#Convert dates to ISO format\n",
    "for country in countries:\n",
    "    old_confirmed = math.nan\n",
    "    for day in days:\n",
    "        #Convert dates to ISO format just once\n",
    "        date_obj = datetime.strptime(day, '%m/%d/%y')\n",
    "        iso_date = date_obj.strftime('%Y-%m-%d')\n",
    "        #Need sum because there are more states for some country\n",
    "        sum = df.loc[df['Country/Region'] == country][day].sum()\n",
    "        newConfirmed = sum-old_confirmed\n",
    "        #TODO return negative value for new confirmed or 0 \n",
    "        list.append({\"Country\" : country, \"Date\" : iso_date, \"Confirmed\" : sum, \"New Confirmed\" : newConfirmed if newConfirmed>0 or math.isnan(newConfirmed) else 0 })\n",
    "        #list.append({\"Country\" : country, \"Date\" : iso_date, \"Confirmed\" : sum, \"New Confirmed\" : newConfirmed})\n",
    "        old_confirmed = sum\n",
    "        \n",
    "print(\"Done\")"
   ]
  },
  {
   "cell_type": "code",
   "execution_count": 22,
   "metadata": {},
   "outputs": [
    {
     "data": {
      "text/html": [
       "<div>\n",
       "<style scoped>\n",
       "    .dataframe tbody tr th:only-of-type {\n",
       "        vertical-align: middle;\n",
       "    }\n",
       "\n",
       "    .dataframe tbody tr th {\n",
       "        vertical-align: top;\n",
       "    }\n",
       "\n",
       "    .dataframe thead th {\n",
       "        text-align: right;\n",
       "    }\n",
       "</style>\n",
       "<table border=\"1\" class=\"dataframe\">\n",
       "  <thead>\n",
       "    <tr style=\"text-align: right;\">\n",
       "      <th></th>\n",
       "      <th>Country</th>\n",
       "      <th>Date</th>\n",
       "      <th>Confirmed</th>\n",
       "      <th>New Confirmed</th>\n",
       "    </tr>\n",
       "  </thead>\n",
       "  <tbody>\n",
       "    <tr>\n",
       "      <th>0</th>\n",
       "      <td>Afghanistan</td>\n",
       "      <td>2020-01-22</td>\n",
       "      <td>0</td>\n",
       "      <td>NaN</td>\n",
       "    </tr>\n",
       "    <tr>\n",
       "      <th>381</th>\n",
       "      <td>Albania</td>\n",
       "      <td>2020-01-22</td>\n",
       "      <td>0</td>\n",
       "      <td>NaN</td>\n",
       "    </tr>\n",
       "    <tr>\n",
       "      <th>762</th>\n",
       "      <td>Algeria</td>\n",
       "      <td>2020-01-22</td>\n",
       "      <td>0</td>\n",
       "      <td>NaN</td>\n",
       "    </tr>\n",
       "    <tr>\n",
       "      <th>1143</th>\n",
       "      <td>Andorra</td>\n",
       "      <td>2020-01-22</td>\n",
       "      <td>0</td>\n",
       "      <td>NaN</td>\n",
       "    </tr>\n",
       "    <tr>\n",
       "      <th>1524</th>\n",
       "      <td>Angola</td>\n",
       "      <td>2020-01-22</td>\n",
       "      <td>0</td>\n",
       "      <td>NaN</td>\n",
       "    </tr>\n",
       "    <tr>\n",
       "      <th>...</th>\n",
       "      <td>...</td>\n",
       "      <td>...</td>\n",
       "      <td>...</td>\n",
       "      <td>...</td>\n",
       "    </tr>\n",
       "    <tr>\n",
       "      <th>71247</th>\n",
       "      <td>Vietnam</td>\n",
       "      <td>2020-01-22</td>\n",
       "      <td>0</td>\n",
       "      <td>NaN</td>\n",
       "    </tr>\n",
       "    <tr>\n",
       "      <th>71628</th>\n",
       "      <td>West Bank and Gaza</td>\n",
       "      <td>2020-01-22</td>\n",
       "      <td>0</td>\n",
       "      <td>NaN</td>\n",
       "    </tr>\n",
       "    <tr>\n",
       "      <th>72009</th>\n",
       "      <td>Yemen</td>\n",
       "      <td>2020-01-22</td>\n",
       "      <td>0</td>\n",
       "      <td>NaN</td>\n",
       "    </tr>\n",
       "    <tr>\n",
       "      <th>72390</th>\n",
       "      <td>Zambia</td>\n",
       "      <td>2020-01-22</td>\n",
       "      <td>0</td>\n",
       "      <td>NaN</td>\n",
       "    </tr>\n",
       "    <tr>\n",
       "      <th>72771</th>\n",
       "      <td>Zimbabwe</td>\n",
       "      <td>2020-01-22</td>\n",
       "      <td>0</td>\n",
       "      <td>NaN</td>\n",
       "    </tr>\n",
       "  </tbody>\n",
       "</table>\n",
       "<p>192 rows × 4 columns</p>\n",
       "</div>"
      ],
      "text/plain": [
       "                  Country        Date  Confirmed  New Confirmed\n",
       "0             Afghanistan  2020-01-22          0            NaN\n",
       "381               Albania  2020-01-22          0            NaN\n",
       "762               Algeria  2020-01-22          0            NaN\n",
       "1143              Andorra  2020-01-22          0            NaN\n",
       "1524               Angola  2020-01-22          0            NaN\n",
       "...                   ...         ...        ...            ...\n",
       "71247             Vietnam  2020-01-22          0            NaN\n",
       "71628  West Bank and Gaza  2020-01-22          0            NaN\n",
       "72009               Yemen  2020-01-22          0            NaN\n",
       "72390              Zambia  2020-01-22          0            NaN\n",
       "72771            Zimbabwe  2020-01-22          0            NaN\n",
       "\n",
       "[192 rows x 4 columns]"
      ]
     },
     "execution_count": 22,
     "metadata": {},
     "output_type": "execute_result"
    }
   ],
   "source": [
    "df_formatted = pd.DataFrame(list)\n",
    "df_formatted\n",
    "#df_formatted.loc[df_formatted['New Confirmed'] < 0]\n",
    "#Check nan values\n",
    "df_formatted.loc[df_formatted['New Confirmed'].isnull()]"
   ]
  },
  {
   "cell_type": "code",
   "execution_count": null,
   "metadata": {},
   "outputs": [],
   "source": []
  }
 ],
 "metadata": {
  "kernelspec": {
   "display_name": "Python 3",
   "language": "python",
   "name": "python3"
  },
  "language_info": {
   "codemirror_mode": {
    "name": "ipython",
    "version": 3
   },
   "file_extension": ".py",
   "mimetype": "text/x-python",
   "name": "python",
   "nbconvert_exporter": "python",
   "pygments_lexer": "ipython3",
   "version": "3.8.5"
  }
 },
 "nbformat": 4,
 "nbformat_minor": 4
}
