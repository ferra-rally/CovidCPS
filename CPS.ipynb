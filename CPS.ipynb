{
 "cells": [
  {
   "cell_type": "markdown",
   "metadata": {},
   "source": [
    "# Progetto COVID 2\n",
    "\n",
    "## Gruppo di lavoro\n",
    "\n",
    "### Nome del gruppo:\n",
    "ThetaRangers\n",
    "\n",
    "### Partecipanti\n",
    "- Daniele Ferrarelli\n",
    "- Marco Ferri\n",
    "\n",
    "# Scopo del progetto\n",
    "\n",
    "# Dati"
   ]
  },
  {
   "cell_type": "code",
   "execution_count": 112,
   "metadata": {},
   "outputs": [],
   "source": [
    "import numpy as np\n",
    "import pandas as pd\n",
    "import plotly.express as px\n",
    "from datetime import datetime\n",
    "from datetime import timedelta\n",
    "import math\n",
    "import matplotlib\n",
    "import matplotlib.pyplot as plt"
   ]
  },
  {
   "cell_type": "markdown",
   "metadata": {},
   "source": [
    "# Librerie da utilizzare plotly e geopandas\n",
    "\n",
    "10 dicembre 2020 la turchia si impenna e fumano"
   ]
  },
  {
   "cell_type": "code",
   "execution_count": 113,
   "metadata": {},
   "outputs": [],
   "source": [
    "#Fetch DataFrame from github csv\n",
    "URL = \"https://raw.githubusercontent.com/CSSEGISandData/COVID-19/master/csse_covid_19_data/csse_covid_19_time_series/time_series_covid19_confirmed_global.csv\"\n",
    "df = pd.read_csv(URL)"
   ]
  },
  {
   "cell_type": "code",
   "execution_count": 114,
   "metadata": {},
   "outputs": [
    {
     "data": {
      "text/html": [
       "<div>\n",
       "<style scoped>\n",
       "    .dataframe tbody tr th:only-of-type {\n",
       "        vertical-align: middle;\n",
       "    }\n",
       "\n",
       "    .dataframe tbody tr th {\n",
       "        vertical-align: top;\n",
       "    }\n",
       "\n",
       "    .dataframe thead th {\n",
       "        text-align: right;\n",
       "    }\n",
       "</style>\n",
       "<table border=\"1\" class=\"dataframe\">\n",
       "  <thead>\n",
       "    <tr style=\"text-align: right;\">\n",
       "      <th></th>\n",
       "      <th>Country</th>\n",
       "      <th>Date</th>\n",
       "      <th>Confirmed</th>\n",
       "      <th>New Confirmed</th>\n",
       "    </tr>\n",
       "  </thead>\n",
       "  <tbody>\n",
       "    <tr>\n",
       "      <th>0</th>\n",
       "      <td>Afghanistan</td>\n",
       "      <td>2020-01-22</td>\n",
       "      <td>0</td>\n",
       "      <td>NaN</td>\n",
       "    </tr>\n",
       "    <tr>\n",
       "      <th>1</th>\n",
       "      <td>Afghanistan</td>\n",
       "      <td>2020-01-23</td>\n",
       "      <td>0</td>\n",
       "      <td>0.0</td>\n",
       "    </tr>\n",
       "    <tr>\n",
       "      <th>2</th>\n",
       "      <td>Afghanistan</td>\n",
       "      <td>2020-01-24</td>\n",
       "      <td>0</td>\n",
       "      <td>0.0</td>\n",
       "    </tr>\n",
       "    <tr>\n",
       "      <th>3</th>\n",
       "      <td>Afghanistan</td>\n",
       "      <td>2020-01-25</td>\n",
       "      <td>0</td>\n",
       "      <td>0.0</td>\n",
       "    </tr>\n",
       "    <tr>\n",
       "      <th>4</th>\n",
       "      <td>Afghanistan</td>\n",
       "      <td>2020-01-26</td>\n",
       "      <td>0</td>\n",
       "      <td>0.0</td>\n",
       "    </tr>\n",
       "    <tr>\n",
       "      <th>...</th>\n",
       "      <td>...</td>\n",
       "      <td>...</td>\n",
       "      <td>...</td>\n",
       "      <td>...</td>\n",
       "    </tr>\n",
       "    <tr>\n",
       "      <th>73723</th>\n",
       "      <td>Zimbabwe</td>\n",
       "      <td>2021-02-04</td>\n",
       "      <td>34171</td>\n",
       "      <td>207.0</td>\n",
       "    </tr>\n",
       "    <tr>\n",
       "      <th>73724</th>\n",
       "      <td>Zimbabwe</td>\n",
       "      <td>2021-02-05</td>\n",
       "      <td>34331</td>\n",
       "      <td>160.0</td>\n",
       "    </tr>\n",
       "    <tr>\n",
       "      <th>73725</th>\n",
       "      <td>Zimbabwe</td>\n",
       "      <td>2021-02-06</td>\n",
       "      <td>34487</td>\n",
       "      <td>156.0</td>\n",
       "    </tr>\n",
       "    <tr>\n",
       "      <th>73726</th>\n",
       "      <td>Zimbabwe</td>\n",
       "      <td>2021-02-07</td>\n",
       "      <td>34552</td>\n",
       "      <td>65.0</td>\n",
       "    </tr>\n",
       "    <tr>\n",
       "      <th>73727</th>\n",
       "      <td>Zimbabwe</td>\n",
       "      <td>2021-02-08</td>\n",
       "      <td>34658</td>\n",
       "      <td>106.0</td>\n",
       "    </tr>\n",
       "  </tbody>\n",
       "</table>\n",
       "<p>73728 rows × 4 columns</p>\n",
       "</div>"
      ],
      "text/plain": [
       "           Country        Date  Confirmed  New Confirmed\n",
       "0      Afghanistan  2020-01-22          0            NaN\n",
       "1      Afghanistan  2020-01-23          0            0.0\n",
       "2      Afghanistan  2020-01-24          0            0.0\n",
       "3      Afghanistan  2020-01-25          0            0.0\n",
       "4      Afghanistan  2020-01-26          0            0.0\n",
       "...            ...         ...        ...            ...\n",
       "73723     Zimbabwe  2021-02-04      34171          207.0\n",
       "73724     Zimbabwe  2021-02-05      34331          160.0\n",
       "73725     Zimbabwe  2021-02-06      34487          156.0\n",
       "73726     Zimbabwe  2021-02-07      34552           65.0\n",
       "73727     Zimbabwe  2021-02-08      34658          106.0\n",
       "\n",
       "[73728 rows x 4 columns]"
      ]
     },
     "execution_count": 114,
     "metadata": {},
     "output_type": "execute_result"
    }
   ],
   "source": [
    "#Format the DataFrame with new confirmed\n",
    "countries = df['Country/Region'].unique()\n",
    "days = df.columns[4:]\n",
    "days_temp = []\n",
    "list = []\n",
    "\n",
    "#Convert dates in ISO\n",
    "for day in days:\n",
    "    date_obj = datetime.strptime(day, '%m/%d/%y')\n",
    "    iso_date = date_obj.strftime('%Y-%m-%d')\n",
    "    days_temp.append([day, iso_date])\n",
    "    \n",
    "days = days_temp\n",
    "\n",
    "#Convert dates to ISO format\n",
    "for country in countries:\n",
    "    old_confirmed = math.nan\n",
    "    for day in days:\n",
    "        \n",
    "        #Need sum because there are more states for some country\n",
    "        sum = df.loc[df['Country/Region'] == country][day[0]].sum()\n",
    "        newConfirmed = sum-old_confirmed\n",
    "        \n",
    "        list.append({\"Country\" : country, \"Date\" : day[1], \"Confirmed\" : sum, \"New Confirmed\" : newConfirmed if newConfirmed>0 or math.isnan(newConfirmed) else 0 })\n",
    "        old_confirmed = sum\n",
    "df = pd.DataFrame(list)\n",
    "df"
   ]
  },
  {
   "cell_type": "code",
   "execution_count": 5,
   "metadata": {},
   "outputs": [],
   "source": [
    "#Plot of one country new confirmed as function\n",
    "def country_plotting(df, country, field = \"New Confirmed\",figsize=(10,8), xstep=25):\n",
    "    if (field not in df.columns):\n",
    "        print(\"Field doesn't exists\")\n",
    "        return -1\n",
    "    elif field not in [\"Confirmed\", \"New Confirmed\"]:\n",
    "        print(\"Invalid field\")\n",
    "        return -1\n",
    "    \n",
    "    country = df.loc[df[\"Country\"] == country]\n",
    "    new_confirmed = country[field]\n",
    "    dates = country[\"Date\"]\n",
    "\n",
    "    fig = plt.figure(num=None, figsize=figsize, dpi=80, facecolor='w', edgecolor='k')\n",
    "    plot = plt.plot(dates, new_confirmed)\n",
    "    plt.xlabel(\"Date\")\n",
    "    plt.ylabel(field)\n",
    "    #Edit x axis label frequency and rotation\n",
    "    plt.xticks(np.arange(0, len(dates)+1, xstep), rotation=45)\n",
    "    plt.show()"
   ]
  },
  {
   "cell_type": "code",
   "execution_count": 6,
   "metadata": {},
   "outputs": [
    {
     "data": {
      "image/png": "[encoded data removed]",
      "text/plain": [
       "<Figure size 800x640 with 1 Axes>"
      ]
     },
     "metadata": {},
     "output_type": "display_data"
    }
   ],
   "source": [
    "country_plotting(df, \"Italy\")"
   ]
  },
  {
   "cell_type": "code",
   "execution_count": 7,
   "metadata": {},
   "outputs": [],
   "source": [
    "#Plot of 4 countries\n",
    "def compare_countries(df, field, countries=[\"Italy\", \"France\", \"Germany\", \"United Kingdom\"], figsize=(10,8), xstep=25):\n",
    "    if (field not in df.columns):\n",
    "        print(\"Field doesn't exists\")\n",
    "        return -1\n",
    "    elif field not in [\"Confirmed\", \"New Confirmed\"]:\n",
    "        print(\"Invalid field\")\n",
    "        return -1\n",
    "    \n",
    "    dates = df[\"Date\"].unique()\n",
    "\n",
    "    fig = plt.figure(num=None, figsize=(20, 10), dpi=80, facecolor='w', edgecolor='k')\n",
    "    plt.xticks(np.arange(0, len(dates)+1, 10), rotation=45)\n",
    "    plt.xlabel(\"Date\")\n",
    "    plt.ylabel(field)\n",
    "\n",
    "    for country in countries:\n",
    "        plt.plot(dates, df.loc[df[\"Country\"] == country][field], label=country)\n",
    "\n",
    "    plt.legend()\n",
    "    plt.show()"
   ]
  },
  {
   "cell_type": "code",
   "execution_count": 8,
   "metadata": {},
   "outputs": [
    {
     "data": {
      "image/png": "[encoded data removed]",
      "text/plain": [
       "<Figure size 1600x800 with 1 Axes>"
      ]
     },
     "metadata": {},
     "output_type": "display_data"
    }
   ],
   "source": [
    "compare_countries(df, \"New Confirmed\")"
   ]
  },
  {
   "cell_type": "code",
   "execution_count": 9,
   "metadata": {},
   "outputs": [],
   "source": [
    "#Rolling Average as function\n",
    "def rolling_average(df, field, country, sizes=[7, 14, 21, 28], figsize=(10, 8), xstep=28):\n",
    "    #check field is valid\n",
    "    if (field not in df.columns):\n",
    "        print(\"Field doesn't exists\")\n",
    "        return -1\n",
    "    elif field not in [\"Confirmed\", \"New Confirmed\"]:\n",
    "        print(\"Invalid field\")\n",
    "        return -1\n",
    "    \n",
    "    country_data = df.loc[df[\"Country\"] == country]\n",
    "    cases = country_data[field]\n",
    "    dates = country_data[\"Date\"]\n",
    "    \n",
    "    rolling_average = []\n",
    "    \n",
    "    for size in sizes:\n",
    "        avg = cases.rolling(window=size).mean()\n",
    "        rolling_average.append([avg, size])\n",
    "        \n",
    "    fig = plt.figure(num=None, figsize=figsize, dpi=80, facecolor='w', edgecolor='k')\n",
    "    plt.title(\"%s %s rolling average\" % (country, field))\n",
    "    plt.xticks(np.arange(0, len(dates)+1, xstep), rotation=45)\n",
    "    for element, size in rolling_average:\n",
    "        plt.plot(dates, element, label=\"Windows size %d\" % size)\n",
    "    \n",
    "    plt.xlabel(\"Date\")\n",
    "    plt.ylabel(field)\n",
    "\n",
    "    plt.legend()\n",
    "    plt.show()"
   ]
  },
  {
   "cell_type": "code",
   "execution_count": 10,
   "metadata": {},
   "outputs": [
    {
     "data": {
      "image/png": "[encoded data removed]",
      "text/plain": [
       "<Figure size 800x640 with 1 Axes>"
      ]
     },
     "metadata": {},
     "output_type": "display_data"
    }
   ],
   "source": [
    "#rolling_average(df, \"New Confirmed\", \"Italy\", [28])\n",
    "rolling_average(df, \"New Confirmed\", \"Italy\")"
   ]
  },
  {
   "cell_type": "code",
   "execution_count": 11,
   "metadata": {},
   "outputs": [],
   "source": [
    "#Moving average global data\n",
    "def global_data(df, field, sizes=[30], figsize=(12, 10), xstep=30):\n",
    "    #check field is valid\n",
    "    if (field not in df.columns):\n",
    "        print(\"Field doesn't exists\")\n",
    "        return -1\n",
    "    elif field not in [\"Confirmed\", \"New Confirmed\"]:\n",
    "        print(\"Invalid field\")        \n",
    "        return -1\n",
    "\n",
    "    #all dates\n",
    "    dates = df[\"Date\"].unique()\n",
    "\n",
    "    #global data\n",
    "    global_cases = []\n",
    "\n",
    "    for day in dates:\n",
    "        cases = df.loc[df[\"Date\"] == day][field].sum()\n",
    "        global_cases.append(cases)\n",
    "\n",
    "    global_cases = pd.Series(global_cases)\n",
    "    #moving average\n",
    "    fig = plt.figure(num=None, figsize=figsize, dpi=80, facecolor='w', edgecolor='k')\n",
    "\n",
    "    for size in sizes:\n",
    "        avg = global_cases.rolling(window=size).mean()\n",
    "        plt.plot(dates, avg, label=\"Window size %d\" % size)\n",
    "\n",
    "    plt.title(\"Global %s rolling average\" % field)\n",
    "    plt.xticks(np.arange(0, len(dates)+1, xstep), rotation=45)\n",
    "    plt.legend()\n",
    "    plt.xlabel(\"Date\")\n",
    "    plt.ylabel(field)\n",
    "    plt.show()"
   ]
  },
  {
   "cell_type": "code",
   "execution_count": 12,
   "metadata": {},
   "outputs": [
    {
     "data": {
      "image/png": "[encoded data removed]",
      "text/plain": [
       "<Figure size 960x800 with 1 Axes>"
      ]
     },
     "metadata": {},
     "output_type": "display_data"
    }
   ],
   "source": [
    "global_data(df, \"New Confirmed\")"
   ]
  },
  {
   "cell_type": "code",
   "execution_count": 13,
   "metadata": {},
   "outputs": [
    {
     "data": {
      "text/plain": [
       "Country              Turkey\n",
       "Date             2020-12-10\n",
       "Confirmed           1748567\n",
       "New Confirmed      823225.0\n",
       "Name: 68291, dtype: object"
      ]
     },
     "execution_count": 13,
     "metadata": {},
     "output_type": "execute_result"
    }
   ],
   "source": [
    "df.loc[df[\"New Confirmed\"].argmax()]"
   ]
  },
  {
   "cell_type": "code",
   "execution_count": 14,
   "metadata": {},
   "outputs": [],
   "source": [
    "def bar_plotting(df, date, field = \"New Confirmed\", figsize=(35, 10)):\n",
    "#Bar graph for global cases in a single date\n",
    "        #check field is valid\n",
    "    if (field not in df.columns):\n",
    "        print(\"Field doesn't exists\")\n",
    "        return -1\n",
    "    elif field not in [\"Confirmed\", \"New Confirmed\"]:\n",
    "        print(\"Invalid field\")        \n",
    "        return -1\n",
    "\n",
    "    df_filtered = df.loc[df[\"Date\"] == date]\n",
    "    countries = df_filtered[\"Country\"]\n",
    "\n",
    "    fig = plt.figure(num=None, figsize=figsize, dpi=80, facecolor='w', edgecolor='k')\n",
    "    width = 3\n",
    "\n",
    "    ax = fig.add_axes([0.1, 0.1, 0.8, 0.8])\n",
    "    ax.bar(range(0, len(countries) * width, width), df_filtered[field], width=width, align='center')\n",
    "    ax.set_xticklabels(df_filtered[\"Country\"], rotation=90)\n",
    "\n",
    "    ax.set_xlabel(\"Country\")\n",
    "    ax.set_ylabel(field)\n",
    "    ax.set_xticks(range(0, len(countries) * width, width))\n",
    "    ax.set_title(\"Global %s in date %s\" % (field, date))\n",
    "    plt.show()"
   ]
  },
  {
   "cell_type": "code",
   "execution_count": 15,
   "metadata": {},
   "outputs": [
    {
     "name": "stderr",
     "output_type": "stream",
     "text": [
      "<ipython-input-14-059ec16cc2ce>:19: UserWarning: FixedFormatter should only be used together with FixedLocator\n",
      "  ax.set_xticklabels(df_filtered[\"Country\"], rotation=90)\n"
     ]
    },
    {
     "data": {
      "image/png": "[encoded data removed]",
      "text/plain": [
       "<Figure size 2800x800 with 1 Axes>"
      ]
     },
     "metadata": {},
     "output_type": "display_data"
    }
   ],
   "source": [
    "bar_plotting(df, \"2020-12-10\")"
   ]
  },
  {
   "cell_type": "code",
   "execution_count": 132,
   "metadata": {},
   "outputs": [],
   "source": [
    "#Plotly animated bar graph\n",
    "def global_bar_graph_plotly(df, field=\"New Confirmed\", countries=[], height=800, step=10, frame_duration=1000, frame_transition=500):\n",
    "    if countries == []:\n",
    "        df_filtered = df\n",
    "    else:\n",
    "        df_filtered = df[df[\"Country\"].isin(countries)]\n",
    "\n",
    "    #Reduce number of data to speed up the animation\n",
    "    dates = df_filtered[\"Date\"].unique()[::step]\n",
    "    df_filtered = df_filtered[df_filtered[\"Date\"].isin(dates)]\n",
    "\n",
    "    fig = px.bar(df_filtered, x=\"Country\", y=field, animation_frame=\"Date\", animation_group=\"Country\", hover_name=\"Country\")\n",
    "    fig.update_layout(margin=dict(l=20, r=20, t=20, b=200), height=height)\n",
    "\n",
    "    #fig[\"layout\"].pop(\"updatemenus\") # optional, drop animation buttonsremove negative numbers in plot plotly python\n",
    "    fig['layout']['updatemenus'][0]['pad']=dict(r= 10, t= 200)\n",
    "    fig['layout']['sliders'][0]['pad']=dict(r= 10, t= 200)\n",
    "    fig.layout.updatemenus[0].buttons[0].args[1]['frame']['duration'] = frame_duration\n",
    "    fig.layout.updatemenus[0].buttons[0].args[1]['transition']['duration'] = frame_transition\n",
    "    fig.show()"
   ]
  },
  {
   "cell_type": "code",
   "execution_count": 137,
   "metadata": {},
   "outputs": [
    {
     "data": {
      "application/vnd.plotly.v1+json": {
       "config": {
        "plotlyServerURL": "https://plot.ly"
       },
       "data": [
        {
         "alignmentgroup": "True",
         "hovertemplate": "<b>%{hovertext}</b><br><br>Date=2020-04-01<br>Country=%{x}<br>New Confirmed=%{y}<extra></extra>",
         "hovertext": [
          "Italy",
          "US"
         ],
         "ids": [
          "Italy",
          "US"
         ],
         "legendgroup": "",
         "marker": {
          "color": "#636efa"
         },
         "name": "",
         "offsetgroup": "",
         "orientation": "v",
         "showlegend": false,
         "textposition": "auto",
         "type": "bar",
         "x": [
          "Italy",
          "US"
         ],
         "xaxis": "x",
         "y": [
          4782,
          32243
         ],
         "yaxis": "y"
        }
       ],
       "frames": [
        {
         "data": [
          {
           "alignmentgroup": "True",
           "hovertemplate": "<b>%{hovertext}</b><br><br>Date=2020-01-22<br>Country=%{x}<br>New Confirmed=%{y}<extra></extra>",
           "hovertext": [
            "Italy",
            "US"
           ],
           "ids": [
            "Italy",
            "US"
           ],
           "legendgroup": "",
           "marker": {
            "color": "#636efa"
           },
           "name": "",
           "offsetgroup": "",
           "orientation": "v",
           "showlegend": false,
           "textposition": "auto",
           "type": "bar",
           "x": [
            "Italy",
            "US"
           ],
           "xaxis": "x",
           "y": [
            null,
            null
           ],
           "yaxis": "y"
          }
         ],
         "name": "2020-01-22"
        },
        {
         "data": [
          {
           "alignmentgroup": "True",
           "hovertemplate": "<b>%{hovertext}</b><br><br>Date=2020-02-01<br>Country=%{x}<br>New Confirmed=%{y}<extra></extra>",
           "hovertext": [
            "Italy",
            "US"
           ],
           "ids": [
            "Italy",
            "US"
           ],
           "legendgroup": "",
           "marker": {
            "color": "#636efa"
           },
           "name": "",
           "offsetgroup": "",
           "orientation": "v",
           "showlegend": false,
           "textposition": "auto",
           "type": "bar",
           "x": [
            "Italy",
            "US"
           ],
           "xaxis": "x",
           "y": [
            0,
            0
           ],
           "yaxis": "y"
          }
         ],
         "name": "2020-02-01"
        },
        {
         "data": [
          {
           "alignmentgroup": "True",
           "hovertemplate": "<b>%{hovertext}</b><br><br>Date=2020-02-11<br>Country=%{x}<br>New Confirmed=%{y}<extra></extra>",
           "hovertext": [
            "Italy",
            "US"
           ],
           "ids": [
            "Italy",
            "US"
           ],
           "legendgroup": "",
           "marker": {
            "color": "#636efa"
           },
           "name": "",
           "offsetgroup": "",
           "orientation": "v",
           "showlegend": false,
           "textposition": "auto",
           "type": "bar",
           "x": [
            "Italy",
            "US"
           ],
           "xaxis": "x",
           "y": [
            0,
            1
           ],
           "yaxis": "y"
          }
         ],
         "name": "2020-02-11"
        },
        {
         "data": [
          {
           "alignmentgroup": "True",
           "hovertemplate": "<b>%{hovertext}</b><br><br>Date=2020-02-21<br>Country=%{x}<br>New Confirmed=%{y}<extra></extra>",
           "hovertext": [
            "Italy",
            "US"
           ],
           "ids": [
            "Italy",
            "US"
           ],
           "legendgroup": "",
           "marker": {
            "color": "#636efa"
           },
           "name": "",
           "offsetgroup": "",
           "orientation": "v",
           "showlegend": false,
           "textposition": "auto",
           "type": "bar",
           "x": [
            "Italy",
            "US"
           ],
           "xaxis": "x",
           "y": [
            17,
            2
           ],
           "yaxis": "y"
          }
         ],
         "name": "2020-02-21"
        },
        {
         "data": [
          {
           "alignmentgroup": "True",
           "hovertemplate": "<b>%{hovertext}</b><br><br>Date=2020-03-02<br>Country=%{x}<br>New Confirmed=%{y}<extra></extra>",
           "hovertext": [
            "Italy",
            "US"
           ],
           "ids": [
            "Italy",
            "US"
           ],
           "legendgroup": "",
           "marker": {
            "color": "#636efa"
           },
           "name": "",
           "offsetgroup": "",
           "orientation": "v",
           "showlegend": false,
           "textposition": "auto",
           "type": "bar",
           "x": [
            "Italy",
            "US"
           ],
           "xaxis": "x",
           "y": [
            342,
            23
           ],
           "yaxis": "y"
          }
         ],
         "name": "2020-03-02"
        },
        {
         "data": [
          {
           "alignmentgroup": "True",
           "hovertemplate": "<b>%{hovertext}</b><br><br>Date=2020-03-12<br>Country=%{x}<br>New Confirmed=%{y}<extra></extra>",
           "hovertext": [
            "Italy",
            "US"
           ],
           "ids": [
            "Italy",
            "US"
           ],
           "legendgroup": "",
           "marker": {
            "color": "#636efa"
           },
           "name": "",
           "offsetgroup": "",
           "orientation": "v",
           "showlegend": false,
           "textposition": "auto",
           "type": "bar",
           "x": [
            "Italy",
            "US"
           ],
           "xaxis": "x",
           "y": [
            2651,
            439
           ],
           "yaxis": "y"
          }
         ],
         "name": "2020-03-12"
        },
        {
         "data": [
          {
           "alignmentgroup": "True",
           "hovertemplate": "<b>%{hovertext}</b><br><br>Date=2020-03-22<br>Country=%{x}<br>New Confirmed=%{y}<extra></extra>",
           "hovertext": [
            "Italy",
            "US"
           ],
           "ids": [
            "Italy",
            "US"
           ],
           "legendgroup": "",
           "marker": {
            "color": "#636efa"
           },
           "name": "",
           "offsetgroup": "",
           "orientation": "v",
           "showlegend": false,
           "textposition": "auto",
           "type": "bar",
           "x": [
            "Italy",
            "US"
           ],
           "xaxis": "x",
           "y": [
            5560,
            8873
           ],
           "yaxis": "y"
          }
         ],
         "name": "2020-03-22"
        },
        {
         "data": [
          {
           "alignmentgroup": "True",
           "hovertemplate": "<b>%{hovertext}</b><br><br>Date=2020-04-01<br>Country=%{x}<br>New Confirmed=%{y}<extra></extra>",
           "hovertext": [
            "Italy",
            "US"
           ],
           "ids": [
            "Italy",
            "US"
           ],
           "legendgroup": "",
           "marker": {
            "color": "#636efa"
           },
           "name": "",
           "offsetgroup": "",
           "orientation": "v",
           "showlegend": false,
           "textposition": "auto",
           "type": "bar",
           "x": [
            "Italy",
            "US"
           ],
           "xaxis": "x",
           "y": [
            4782,
            32243
           ],
           "yaxis": "y"
          }
         ],
         "name": "2020-04-01"
        },
        {
         "data": [
          {
           "alignmentgroup": "True",
           "hovertemplate": "<b>%{hovertext}</b><br><br>Date=2020-04-11<br>Country=%{x}<br>New Confirmed=%{y}<extra></extra>",
           "hovertext": [
            "Italy",
            "US"
           ],
           "ids": [
            "Italy",
            "US"
           ],
           "legendgroup": "",
           "marker": {
            "color": "#636efa"
           },
           "name": "",
           "offsetgroup": "",
           "orientation": "v",
           "showlegend": false,
           "textposition": "auto",
           "type": "bar",
           "x": [
            "Italy",
            "US"
           ],
           "xaxis": "x",
           "y": [
            4694,
            29130
           ],
           "yaxis": "y"
          }
         ],
         "name": "2020-04-11"
        },
        {
         "data": [
          {
           "alignmentgroup": "True",
           "hovertemplate": "<b>%{hovertext}</b><br><br>Date=2020-04-21<br>Country=%{x}<br>New Confirmed=%{y}<extra></extra>",
           "hovertext": [
            "Italy",
            "US"
           ],
           "ids": [
            "Italy",
            "US"
           ],
           "legendgroup": "",
           "marker": {
            "color": "#636efa"
           },
           "name": "",
           "offsetgroup": "",
           "orientation": "v",
           "showlegend": false,
           "textposition": "auto",
           "type": "bar",
           "x": [
            "Italy",
            "US"
           ],
           "xaxis": "x",
           "y": [
            2729,
            25917
           ],
           "yaxis": "y"
          }
         ],
         "name": "2020-04-21"
        },
        {
         "data": [
          {
           "alignmentgroup": "True",
           "hovertemplate": "<b>%{hovertext}</b><br><br>Date=2020-05-01<br>Country=%{x}<br>New Confirmed=%{y}<extra></extra>",
           "hovertext": [
            "Italy",
            "US"
           ],
           "ids": [
            "Italy",
            "US"
           ],
           "legendgroup": "",
           "marker": {
            "color": "#636efa"
           },
           "name": "",
           "offsetgroup": "",
           "orientation": "v",
           "showlegend": false,
           "textposition": "auto",
           "type": "bar",
           "x": [
            "Italy",
            "US"
           ],
           "xaxis": "x",
           "y": [
            1965,
            34926
           ],
           "yaxis": "y"
          }
         ],
         "name": "2020-05-01"
        },
        {
         "data": [
          {
           "alignmentgroup": "True",
           "hovertemplate": "<b>%{hovertext}</b><br><br>Date=2020-05-11<br>Country=%{x}<br>New Confirmed=%{y}<extra></extra>",
           "hovertext": [
            "Italy",
            "US"
           ],
           "ids": [
            "Italy",
            "US"
           ],
           "legendgroup": "",
           "marker": {
            "color": "#636efa"
           },
           "name": "",
           "offsetgroup": "",
           "orientation": "v",
           "showlegend": false,
           "textposition": "auto",
           "type": "bar",
           "x": [
            "Italy",
            "US"
           ],
           "xaxis": "x",
           "y": [
            744,
            19271
           ],
           "yaxis": "y"
          }
         ],
         "name": "2020-05-11"
        },
        {
         "data": [
          {
           "alignmentgroup": "True",
           "hovertemplate": "<b>%{hovertext}</b><br><br>Date=2020-05-21<br>Country=%{x}<br>New Confirmed=%{y}<extra></extra>",
           "hovertext": [
            "Italy",
            "US"
           ],
           "ids": [
            "Italy",
            "US"
           ],
           "legendgroup": "",
           "marker": {
            "color": "#636efa"
           },
           "name": "",
           "offsetgroup": "",
           "orientation": "v",
           "showlegend": false,
           "textposition": "auto",
           "type": "bar",
           "x": [
            "Italy",
            "US"
           ],
           "xaxis": "x",
           "y": [
            642,
            25766
           ],
           "yaxis": "y"
          }
         ],
         "name": "2020-05-21"
        },
        {
         "data": [
          {
           "alignmentgroup": "True",
           "hovertemplate": "<b>%{hovertext}</b><br><br>Date=2020-05-31<br>Country=%{x}<br>New Confirmed=%{y}<extra></extra>",
           "hovertext": [
            "Italy",
            "US"
           ],
           "ids": [
            "Italy",
            "US"
           ],
           "legendgroup": "",
           "marker": {
            "color": "#636efa"
           },
           "name": "",
           "offsetgroup": "",
           "orientation": "v",
           "showlegend": false,
           "textposition": "auto",
           "type": "bar",
           "x": [
            "Italy",
            "US"
           ],
           "xaxis": "x",
           "y": [
            333,
            18987
           ],
           "yaxis": "y"
          }
         ],
         "name": "2020-05-31"
        },
        {
         "data": [
          {
           "alignmentgroup": "True",
           "hovertemplate": "<b>%{hovertext}</b><br><br>Date=2020-06-10<br>Country=%{x}<br>New Confirmed=%{y}<extra></extra>",
           "hovertext": [
            "Italy",
            "US"
           ],
           "ids": [
            "Italy",
            "US"
           ],
           "legendgroup": "",
           "marker": {
            "color": "#636efa"
           },
           "name": "",
           "offsetgroup": "",
           "orientation": "v",
           "showlegend": false,
           "textposition": "auto",
           "type": "bar",
           "x": [
            "Italy",
            "US"
           ],
           "xaxis": "x",
           "y": [
            202,
            21110
           ],
           "yaxis": "y"
          }
         ],
         "name": "2020-06-10"
        },
        {
         "data": [
          {
           "alignmentgroup": "True",
           "hovertemplate": "<b>%{hovertext}</b><br><br>Date=2020-06-20<br>Country=%{x}<br>New Confirmed=%{y}<extra></extra>",
           "hovertext": [
            "Italy",
            "US"
           ],
           "ids": [
            "Italy",
            "US"
           ],
           "legendgroup": "",
           "marker": {
            "color": "#636efa"
           },
           "name": "",
           "offsetgroup": "",
           "orientation": "v",
           "showlegend": false,
           "textposition": "auto",
           "type": "bar",
           "x": [
            "Italy",
            "US"
           ],
           "xaxis": "x",
           "y": [
            264,
            32269
           ],
           "yaxis": "y"
          }
         ],
         "name": "2020-06-20"
        },
        {
         "data": [
          {
           "alignmentgroup": "True",
           "hovertemplate": "<b>%{hovertext}</b><br><br>Date=2020-06-30<br>Country=%{x}<br>New Confirmed=%{y}<extra></extra>",
           "hovertext": [
            "Italy",
            "US"
           ],
           "ids": [
            "Italy",
            "US"
           ],
           "legendgroup": "",
           "marker": {
            "color": "#636efa"
           },
           "name": "",
           "offsetgroup": "",
           "orientation": "v",
           "showlegend": false,
           "textposition": "auto",
           "type": "bar",
           "x": [
            "Italy",
            "US"
           ],
           "xaxis": "x",
           "y": [
            142,
            46426
           ],
           "yaxis": "y"
          }
         ],
         "name": "2020-06-30"
        },
        {
         "data": [
          {
           "alignmentgroup": "True",
           "hovertemplate": "<b>%{hovertext}</b><br><br>Date=2020-07-10<br>Country=%{x}<br>New Confirmed=%{y}<extra></extra>",
           "hovertext": [
            "Italy",
            "US"
           ],
           "ids": [
            "Italy",
            "US"
           ],
           "legendgroup": "",
           "marker": {
            "color": "#636efa"
           },
           "name": "",
           "offsetgroup": "",
           "orientation": "v",
           "showlegend": false,
           "textposition": "auto",
           "type": "bar",
           "x": [
            "Italy",
            "US"
           ],
           "xaxis": "x",
           "y": [
            276,
            68039
           ],
           "yaxis": "y"
          }
         ],
         "name": "2020-07-10"
        },
        {
         "data": [
          {
           "alignmentgroup": "True",
           "hovertemplate": "<b>%{hovertext}</b><br><br>Date=2020-07-20<br>Country=%{x}<br>New Confirmed=%{y}<extra></extra>",
           "hovertext": [
            "Italy",
            "US"
           ],
           "ids": [
            "Italy",
            "US"
           ],
           "legendgroup": "",
           "marker": {
            "color": "#636efa"
           },
           "name": "",
           "offsetgroup": "",
           "orientation": "v",
           "showlegend": false,
           "textposition": "auto",
           "type": "bar",
           "x": [
            "Italy",
            "US"
           ],
           "xaxis": "x",
           "y": [
            190,
            62082
           ],
           "yaxis": "y"
          }
         ],
         "name": "2020-07-20"
        },
        {
         "data": [
          {
           "alignmentgroup": "True",
           "hovertemplate": "<b>%{hovertext}</b><br><br>Date=2020-07-30<br>Country=%{x}<br>New Confirmed=%{y}<extra></extra>",
           "hovertext": [
            "Italy",
            "US"
           ],
           "ids": [
            "Italy",
            "US"
           ],
           "legendgroup": "",
           "marker": {
            "color": "#636efa"
           },
           "name": "",
           "offsetgroup": "",
           "orientation": "v",
           "showlegend": false,
           "textposition": "auto",
           "type": "bar",
           "x": [
            "Italy",
            "US"
           ],
           "xaxis": "x",
           "y": [
            382,
            67418
           ],
           "yaxis": "y"
          }
         ],
         "name": "2020-07-30"
        },
        {
         "data": [
          {
           "alignmentgroup": "True",
           "hovertemplate": "<b>%{hovertext}</b><br><br>Date=2020-08-09<br>Country=%{x}<br>New Confirmed=%{y}<extra></extra>",
           "hovertext": [
            "Italy",
            "US"
           ],
           "ids": [
            "Italy",
            "US"
           ],
           "legendgroup": "",
           "marker": {
            "color": "#636efa"
           },
           "name": "",
           "offsetgroup": "",
           "orientation": "v",
           "showlegend": false,
           "textposition": "auto",
           "type": "bar",
           "x": [
            "Italy",
            "US"
           ],
           "xaxis": "x",
           "y": [
            463,
            45748
           ],
           "yaxis": "y"
          }
         ],
         "name": "2020-08-09"
        },
        {
         "data": [
          {
           "alignmentgroup": "True",
           "hovertemplate": "<b>%{hovertext}</b><br><br>Date=2020-08-19<br>Country=%{x}<br>New Confirmed=%{y}<extra></extra>",
           "hovertext": [
            "Italy",
            "US"
           ],
           "ids": [
            "Italy",
            "US"
           ],
           "legendgroup": "",
           "marker": {
            "color": "#636efa"
           },
           "name": "",
           "offsetgroup": "",
           "orientation": "v",
           "showlegend": false,
           "textposition": "auto",
           "type": "bar",
           "x": [
            "Italy",
            "US"
           ],
           "xaxis": "x",
           "y": [
            642,
            47347
           ],
           "yaxis": "y"
          }
         ],
         "name": "2020-08-19"
        },
        {
         "data": [
          {
           "alignmentgroup": "True",
           "hovertemplate": "<b>%{hovertext}</b><br><br>Date=2020-08-29<br>Country=%{x}<br>New Confirmed=%{y}<extra></extra>",
           "hovertext": [
            "Italy",
            "US"
           ],
           "ids": [
            "Italy",
            "US"
           ],
           "legendgroup": "",
           "marker": {
            "color": "#636efa"
           },
           "name": "",
           "offsetgroup": "",
           "orientation": "v",
           "showlegend": false,
           "textposition": "auto",
           "type": "bar",
           "x": [
            "Italy",
            "US"
           ],
           "xaxis": "x",
           "y": [
            1444,
            42676
           ],
           "yaxis": "y"
          }
         ],
         "name": "2020-08-29"
        },
        {
         "data": [
          {
           "alignmentgroup": "True",
           "hovertemplate": "<b>%{hovertext}</b><br><br>Date=2020-09-08<br>Country=%{x}<br>New Confirmed=%{y}<extra></extra>",
           "hovertext": [
            "Italy",
            "US"
           ],
           "ids": [
            "Italy",
            "US"
           ],
           "legendgroup": "",
           "marker": {
            "color": "#636efa"
           },
           "name": "",
           "offsetgroup": "",
           "orientation": "v",
           "showlegend": false,
           "textposition": "auto",
           "type": "bar",
           "x": [
            "Italy",
            "US"
           ],
           "xaxis": "x",
           "y": [
            1369,
            27435
           ],
           "yaxis": "y"
          }
         ],
         "name": "2020-09-08"
        },
        {
         "data": [
          {
           "alignmentgroup": "True",
           "hovertemplate": "<b>%{hovertext}</b><br><br>Date=2020-09-18<br>Country=%{x}<br>New Confirmed=%{y}<extra></extra>",
           "hovertext": [
            "Italy",
            "US"
           ],
           "ids": [
            "Italy",
            "US"
           ],
           "legendgroup": "",
           "marker": {
            "color": "#636efa"
           },
           "name": "",
           "offsetgroup": "",
           "orientation": "v",
           "showlegend": false,
           "textposition": "auto",
           "type": "bar",
           "x": [
            "Italy",
            "US"
           ],
           "xaxis": "x",
           "y": [
            1907,
            49146
           ],
           "yaxis": "y"
          }
         ],
         "name": "2020-09-18"
        },
        {
         "data": [
          {
           "alignmentgroup": "True",
           "hovertemplate": "<b>%{hovertext}</b><br><br>Date=2020-09-28<br>Country=%{x}<br>New Confirmed=%{y}<extra></extra>",
           "hovertext": [
            "Italy",
            "US"
           ],
           "ids": [
            "Italy",
            "US"
           ],
           "legendgroup": "",
           "marker": {
            "color": "#636efa"
           },
           "name": "",
           "offsetgroup": "",
           "orientation": "v",
           "showlegend": false,
           "textposition": "auto",
           "type": "bar",
           "x": [
            "Italy",
            "US"
           ],
           "xaxis": "x",
           "y": [
            1494,
            33203
           ],
           "yaxis": "y"
          }
         ],
         "name": "2020-09-28"
        },
        {
         "data": [
          {
           "alignmentgroup": "True",
           "hovertemplate": "<b>%{hovertext}</b><br><br>Date=2020-10-08<br>Country=%{x}<br>New Confirmed=%{y}<extra></extra>",
           "hovertext": [
            "Italy",
            "US"
           ],
           "ids": [
            "Italy",
            "US"
           ],
           "legendgroup": "",
           "marker": {
            "color": "#636efa"
           },
           "name": "",
           "offsetgroup": "",
           "orientation": "v",
           "showlegend": false,
           "textposition": "auto",
           "type": "bar",
           "x": [
            "Italy",
            "US"
           ],
           "xaxis": "x",
           "y": [
            4458,
            58502
           ],
           "yaxis": "y"
          }
         ],
         "name": "2020-10-08"
        },
        {
         "data": [
          {
           "alignmentgroup": "True",
           "hovertemplate": "<b>%{hovertext}</b><br><br>Date=2020-10-18<br>Country=%{x}<br>New Confirmed=%{y}<extra></extra>",
           "hovertext": [
            "Italy",
            "US"
           ],
           "ids": [
            "Italy",
            "US"
           ],
           "legendgroup": "",
           "marker": {
            "color": "#636efa"
           },
           "name": "",
           "offsetgroup": "",
           "orientation": "v",
           "showlegend": false,
           "textposition": "auto",
           "type": "bar",
           "x": [
            "Italy",
            "US"
           ],
           "xaxis": "x",
           "y": [
            11705,
            49307
           ],
           "yaxis": "y"
          }
         ],
         "name": "2020-10-18"
        },
        {
         "data": [
          {
           "alignmentgroup": "True",
           "hovertemplate": "<b>%{hovertext}</b><br><br>Date=2020-10-28<br>Country=%{x}<br>New Confirmed=%{y}<extra></extra>",
           "hovertext": [
            "Italy",
            "US"
           ],
           "ids": [
            "Italy",
            "US"
           ],
           "legendgroup": "",
           "marker": {
            "color": "#636efa"
           },
           "name": "",
           "offsetgroup": "",
           "orientation": "v",
           "showlegend": false,
           "textposition": "auto",
           "type": "bar",
           "x": [
            "Italy",
            "US"
           ],
           "xaxis": "x",
           "y": [
            24988,
            79190
           ],
           "yaxis": "y"
          }
         ],
         "name": "2020-10-28"
        },
        {
         "data": [
          {
           "alignmentgroup": "True",
           "hovertemplate": "<b>%{hovertext}</b><br><br>Date=2020-11-07<br>Country=%{x}<br>New Confirmed=%{y}<extra></extra>",
           "hovertext": [
            "Italy",
            "US"
           ],
           "ids": [
            "Italy",
            "US"
           ],
           "legendgroup": "",
           "marker": {
            "color": "#636efa"
           },
           "name": "",
           "offsetgroup": "",
           "orientation": "v",
           "showlegend": false,
           "textposition": "auto",
           "type": "bar",
           "x": [
            "Italy",
            "US"
           ],
           "xaxis": "x",
           "y": [
            39809,
            127208
           ],
           "yaxis": "y"
          }
         ],
         "name": "2020-11-07"
        },
        {
         "data": [
          {
           "alignmentgroup": "True",
           "hovertemplate": "<b>%{hovertext}</b><br><br>Date=2020-11-17<br>Country=%{x}<br>New Confirmed=%{y}<extra></extra>",
           "hovertext": [
            "Italy",
            "US"
           ],
           "ids": [
            "Italy",
            "US"
           ],
           "legendgroup": "",
           "marker": {
            "color": "#636efa"
           },
           "name": "",
           "offsetgroup": "",
           "orientation": "v",
           "showlegend": false,
           "textposition": "auto",
           "type": "bar",
           "x": [
            "Italy",
            "US"
           ],
           "xaxis": "x",
           "y": [
            32191,
            163437
           ],
           "yaxis": "y"
          }
         ],
         "name": "2020-11-17"
        },
        {
         "data": [
          {
           "alignmentgroup": "True",
           "hovertemplate": "<b>%{hovertext}</b><br><br>Date=2020-11-27<br>Country=%{x}<br>New Confirmed=%{y}<extra></extra>",
           "hovertext": [
            "Italy",
            "US"
           ],
           "ids": [
            "Italy",
            "US"
           ],
           "legendgroup": "",
           "marker": {
            "color": "#636efa"
           },
           "name": "",
           "offsetgroup": "",
           "orientation": "v",
           "showlegend": false,
           "textposition": "auto",
           "type": "bar",
           "x": [
            "Italy",
            "US"
           ],
           "xaxis": "x",
           "y": [
            28342,
            208007
           ],
           "yaxis": "y"
          }
         ],
         "name": "2020-11-27"
        },
        {
         "data": [
          {
           "alignmentgroup": "True",
           "hovertemplate": "<b>%{hovertext}</b><br><br>Date=2020-12-07<br>Country=%{x}<br>New Confirmed=%{y}<extra></extra>",
           "hovertext": [
            "Italy",
            "US"
           ],
           "ids": [
            "Italy",
            "US"
           ],
           "legendgroup": "",
           "marker": {
            "color": "#636efa"
           },
           "name": "",
           "offsetgroup": "",
           "orientation": "v",
           "showlegend": false,
           "textposition": "auto",
           "type": "bar",
           "x": [
            "Italy",
            "US"
           ],
           "xaxis": "x",
           "y": [
            13679,
            194591
           ],
           "yaxis": "y"
          }
         ],
         "name": "2020-12-07"
        },
        {
         "data": [
          {
           "alignmentgroup": "True",
           "hovertemplate": "<b>%{hovertext}</b><br><br>Date=2020-12-17<br>Country=%{x}<br>New Confirmed=%{y}<extra></extra>",
           "hovertext": [
            "Italy",
            "US"
           ],
           "ids": [
            "Italy",
            "US"
           ],
           "legendgroup": "",
           "marker": {
            "color": "#636efa"
           },
           "name": "",
           "offsetgroup": "",
           "orientation": "v",
           "showlegend": false,
           "textposition": "auto",
           "type": "bar",
           "x": [
            "Italy",
            "US"
           ],
           "xaxis": "x",
           "y": [
            18233,
            239077
           ],
           "yaxis": "y"
          }
         ],
         "name": "2020-12-17"
        },
        {
         "data": [
          {
           "alignmentgroup": "True",
           "hovertemplate": "<b>%{hovertext}</b><br><br>Date=2020-12-27<br>Country=%{x}<br>New Confirmed=%{y}<extra></extra>",
           "hovertext": [
            "Italy",
            "US"
           ],
           "ids": [
            "Italy",
            "US"
           ],
           "legendgroup": "",
           "marker": {
            "color": "#636efa"
           },
           "name": "",
           "offsetgroup": "",
           "orientation": "v",
           "showlegend": false,
           "textposition": "auto",
           "type": "bar",
           "x": [
            "Italy",
            "US"
           ],
           "xaxis": "x",
           "y": [
            8937,
            155688
           ],
           "yaxis": "y"
          }
         ],
         "name": "2020-12-27"
        },
        {
         "data": [
          {
           "alignmentgroup": "True",
           "hovertemplate": "<b>%{hovertext}</b><br><br>Date=2021-01-06<br>Country=%{x}<br>New Confirmed=%{y}<extra></extra>",
           "hovertext": [
            "Italy",
            "US"
           ],
           "ids": [
            "Italy",
            "US"
           ],
           "legendgroup": "",
           "marker": {
            "color": "#636efa"
           },
           "name": "",
           "offsetgroup": "",
           "orientation": "v",
           "showlegend": false,
           "textposition": "auto",
           "type": "bar",
           "x": [
            "Italy",
            "US"
           ],
           "xaxis": "x",
           "y": [
            20326,
            253917
           ],
           "yaxis": "y"
          }
         ],
         "name": "2021-01-06"
        },
        {
         "data": [
          {
           "alignmentgroup": "True",
           "hovertemplate": "<b>%{hovertext}</b><br><br>Date=2021-01-16<br>Country=%{x}<br>New Confirmed=%{y}<extra></extra>",
           "hovertext": [
            "Italy",
            "US"
           ],
           "ids": [
            "Italy",
            "US"
           ],
           "legendgroup": "",
           "marker": {
            "color": "#636efa"
           },
           "name": "",
           "offsetgroup": "",
           "orientation": "v",
           "showlegend": false,
           "textposition": "auto",
           "type": "bar",
           "x": [
            "Italy",
            "US"
           ],
           "xaxis": "x",
           "y": [
            16310,
            200764
           ],
           "yaxis": "y"
          }
         ],
         "name": "2021-01-16"
        },
        {
         "data": [
          {
           "alignmentgroup": "True",
           "hovertemplate": "<b>%{hovertext}</b><br><br>Date=2021-01-26<br>Country=%{x}<br>New Confirmed=%{y}<extra></extra>",
           "hovertext": [
            "Italy",
            "US"
           ],
           "ids": [
            "Italy",
            "US"
           ],
           "legendgroup": "",
           "marker": {
            "color": "#636efa"
           },
           "name": "",
           "offsetgroup": "",
           "orientation": "v",
           "showlegend": false,
           "textposition": "auto",
           "type": "bar",
           "x": [
            "Italy",
            "US"
           ],
           "xaxis": "x",
           "y": [
            10584,
            146597
           ],
           "yaxis": "y"
          }
         ],
         "name": "2021-01-26"
        },
        {
         "data": [
          {
           "alignmentgroup": "True",
           "hovertemplate": "<b>%{hovertext}</b><br><br>Date=2021-02-05<br>Country=%{x}<br>New Confirmed=%{y}<extra></extra>",
           "hovertext": [
            "Italy",
            "US"
           ],
           "ids": [
            "Italy",
            "US"
           ],
           "legendgroup": "",
           "marker": {
            "color": "#636efa"
           },
           "name": "",
           "offsetgroup": "",
           "orientation": "v",
           "showlegend": false,
           "textposition": "auto",
           "type": "bar",
           "x": [
            "Italy",
            "US"
           ],
           "xaxis": "x",
           "y": [
            14213,
            133558
           ],
           "yaxis": "y"
          }
         ],
         "name": "2021-02-05"
        }
       ],
       "layout": {
        "autosize": true,
        "barmode": "relative",
        "legend": {
         "tracegroupgap": 0
        },
        "margin": {
         "b": 200,
         "l": 20,
         "r": 20,
         "t": 20
        },
        "sliders": [
         {
          "active": 7,
          "currentvalue": {
           "prefix": "Date="
          },
          "len": 0.9,
          "pad": {
           "r": 10,
           "t": 200
          },
          "steps": [
           {
            "args": [
             [
              "2020-01-22"
             ],
             {
              "frame": {
               "duration": 0,
               "redraw": true
              },
              "fromcurrent": true,
              "mode": "immediate",
              "transition": {
               "duration": 0,
               "easing": "linear"
              }
             }
            ],
            "label": "2020-01-22",
            "method": "animate"
           },
           {
            "args": [
             [
              "2020-02-01"
             ],
             {
              "frame": {
               "duration": 0,
               "redraw": true
              },
              "fromcurrent": true,
              "mode": "immediate",
              "transition": {
               "duration": 0,
               "easing": "linear"
              }
             }
            ],
            "label": "2020-02-01",
            "method": "animate"
           },
           {
            "args": [
             [
              "2020-02-11"
             ],
             {
              "frame": {
               "duration": 0,
               "redraw": true
              },
              "fromcurrent": true,
              "mode": "immediate",
              "transition": {
               "duration": 0,
               "easing": "linear"
              }
             }
            ],
            "label": "2020-02-11",
            "method": "animate"
           },
           {
            "args": [
             [
              "2020-02-21"
             ],
             {
              "frame": {
               "duration": 0,
               "redraw": true
              },
              "fromcurrent": true,
              "mode": "immediate",
              "transition": {
               "duration": 0,
               "easing": "linear"
              }
             }
            ],
            "label": "2020-02-21",
            "method": "animate"
           },
           {
            "args": [
             [
              "2020-03-02"
             ],
             {
              "frame": {
               "duration": 0,
               "redraw": true
              },
              "fromcurrent": true,
              "mode": "immediate",
              "transition": {
               "duration": 0,
               "easing": "linear"
              }
             }
            ],
            "label": "2020-03-02",
            "method": "animate"
           },
           {
            "args": [
             [
              "2020-03-12"
             ],
             {
              "frame": {
               "duration": 0,
               "redraw": true
              },
              "fromcurrent": true,
              "mode": "immediate",
              "transition": {
               "duration": 0,
               "easing": "linear"
              }
             }
            ],
            "label": "2020-03-12",
            "method": "animate"
           },
           {
            "args": [
             [
              "2020-03-22"
             ],
             {
              "frame": {
               "duration": 0,
               "redraw": true
              },
              "fromcurrent": true,
              "mode": "immediate",
              "transition": {
               "duration": 0,
               "easing": "linear"
              }
             }
            ],
            "label": "2020-03-22",
            "method": "animate"
           },
           {
            "args": [
             [
              "2020-04-01"
             ],
             {
              "frame": {
               "duration": 0,
               "redraw": true
              },
              "fromcurrent": true,
              "mode": "immediate",
              "transition": {
               "duration": 0,
               "easing": "linear"
              }
             }
            ],
            "label": "2020-04-01",
            "method": "animate"
           },
           {
            "args": [
             [
              "2020-04-11"
             ],
             {
              "frame": {
               "duration": 0,
               "redraw": true
              },
              "fromcurrent": true,
              "mode": "immediate",
              "transition": {
               "duration": 0,
               "easing": "linear"
              }
             }
            ],
            "label": "2020-04-11",
            "method": "animate"
           },
           {
            "args": [
             [
              "2020-04-21"
             ],
             {
              "frame": {
               "duration": 0,
               "redraw": true
              },
              "fromcurrent": true,
              "mode": "immediate",
              "transition": {
               "duration": 0,
               "easing": "linear"
              }
             }
            ],
            "label": "2020-04-21",
            "method": "animate"
           },
           {
            "args": [
             [
              "2020-05-01"
             ],
             {
              "frame": {
               "duration": 0,
               "redraw": true
              },
              "fromcurrent": true,
              "mode": "immediate",
              "transition": {
               "duration": 0,
               "easing": "linear"
              }
             }
            ],
            "label": "2020-05-01",
            "method": "animate"
           },
           {
            "args": [
             [
              "2020-05-11"
             ],
             {
              "frame": {
               "duration": 0,
               "redraw": true
              },
              "fromcurrent": true,
              "mode": "immediate",
              "transition": {
               "duration": 0,
               "easing": "linear"
              }
             }
            ],
            "label": "2020-05-11",
            "method": "animate"
           },
           {
            "args": [
             [
              "2020-05-21"
             ],
             {
              "frame": {
               "duration": 0,
               "redraw": true
              },
              "fromcurrent": true,
              "mode": "immediate",
              "transition": {
               "duration": 0,
               "easing": "linear"
              }
             }
            ],
            "label": "2020-05-21",
            "method": "animate"
           },
           {
            "args": [
             [
              "2020-05-31"
             ],
             {
              "frame": {
               "duration": 0,
               "redraw": true
              },
              "fromcurrent": true,
              "mode": "immediate",
              "transition": {
               "duration": 0,
               "easing": "linear"
              }
             }
            ],
            "label": "2020-05-31",
            "method": "animate"
           },
           {
            "args": [
             [
              "2020-06-10"
             ],
             {
              "frame": {
               "duration": 0,
               "redraw": true
              },
              "fromcurrent": true,
              "mode": "immediate",
              "transition": {
               "duration": 0,
               "easing": "linear"
              }
             }
            ],
            "label": "2020-06-10",
            "method": "animate"
           },
           {
            "args": [
             [
              "2020-06-20"
             ],
             {
              "frame": {
               "duration": 0,
               "redraw": true
              },
              "fromcurrent": true,
              "mode": "immediate",
              "transition": {
               "duration": 0,
               "easing": "linear"
              }
             }
            ],
            "label": "2020-06-20",
            "method": "animate"
           },
           {
            "args": [
             [
              "2020-06-30"
             ],
             {
              "frame": {
               "duration": 0,
               "redraw": true
              },
              "fromcurrent": true,
              "mode": "immediate",
              "transition": {
               "duration": 0,
               "easing": "linear"
              }
             }
            ],
            "label": "2020-06-30",
            "method": "animate"
           },
           {
            "args": [
             [
              "2020-07-10"
             ],
             {
              "frame": {
               "duration": 0,
               "redraw": true
              },
              "fromcurrent": true,
              "mode": "immediate",
              "transition": {
               "duration": 0,
               "easing": "linear"
              }
             }
            ],
            "label": "2020-07-10",
            "method": "animate"
           },
           {
            "args": [
             [
              "2020-07-20"
             ],
             {
              "frame": {
               "duration": 0,
               "redraw": true
              },
              "fromcurrent": true,
              "mode": "immediate",
              "transition": {
               "duration": 0,
               "easing": "linear"
              }
             }
            ],
            "label": "2020-07-20",
            "method": "animate"
           },
           {
            "args": [
             [
              "2020-07-30"
             ],
             {
              "frame": {
               "duration": 0,
               "redraw": true
              },
              "fromcurrent": true,
              "mode": "immediate",
              "transition": {
               "duration": 0,
               "easing": "linear"
              }
             }
            ],
            "label": "2020-07-30",
            "method": "animate"
           },
           {
            "args": [
             [
              "2020-08-09"
             ],
             {
              "frame": {
               "duration": 0,
               "redraw": true
              },
              "fromcurrent": true,
              "mode": "immediate",
              "transition": {
               "duration": 0,
               "easing": "linear"
              }
             }
            ],
            "label": "2020-08-09",
            "method": "animate"
           },
           {
            "args": [
             [
              "2020-08-19"
             ],
             {
              "frame": {
               "duration": 0,
               "redraw": true
              },
              "fromcurrent": true,
              "mode": "immediate",
              "transition": {
               "duration": 0,
               "easing": "linear"
              }
             }
            ],
            "label": "2020-08-19",
            "method": "animate"
           },
           {
            "args": [
             [
              "2020-08-29"
             ],
             {
              "frame": {
               "duration": 0,
               "redraw": true
              },
              "fromcurrent": true,
              "mode": "immediate",
              "transition": {
               "duration": 0,
               "easing": "linear"
              }
             }
            ],
            "label": "2020-08-29",
            "method": "animate"
           },
           {
            "args": [
             [
              "2020-09-08"
             ],
             {
              "frame": {
               "duration": 0,
               "redraw": true
              },
              "fromcurrent": true,
              "mode": "immediate",
              "transition": {
               "duration": 0,
               "easing": "linear"
              }
             }
            ],
            "label": "2020-09-08",
            "method": "animate"
           },
           {
            "args": [
             [
              "2020-09-18"
             ],
             {
              "frame": {
               "duration": 0,
               "redraw": true
              },
              "fromcurrent": true,
              "mode": "immediate",
              "transition": {
               "duration": 0,
               "easing": "linear"
              }
             }
            ],
            "label": "2020-09-18",
            "method": "animate"
           },
           {
            "args": [
             [
              "2020-09-28"
             ],
             {
              "frame": {
               "duration": 0,
               "redraw": true
              },
              "fromcurrent": true,
              "mode": "immediate",
              "transition": {
               "duration": 0,
               "easing": "linear"
              }
             }
            ],
            "label": "2020-09-28",
            "method": "animate"
           },
           {
            "args": [
             [
              "2020-10-08"
             ],
             {
              "frame": {
               "duration": 0,
               "redraw": true
              },
              "fromcurrent": true,
              "mode": "immediate",
              "transition": {
               "duration": 0,
               "easing": "linear"
              }
             }
            ],
            "label": "2020-10-08",
            "method": "animate"
           },
           {
            "args": [
             [
              "2020-10-18"
             ],
             {
              "frame": {
               "duration": 0,
               "redraw": true
              },
              "fromcurrent": true,
              "mode": "immediate",
              "transition": {
               "duration": 0,
               "easing": "linear"
              }
             }
            ],
            "label": "2020-10-18",
            "method": "animate"
           },
           {
            "args": [
             [
              "2020-10-28"
             ],
             {
              "frame": {
               "duration": 0,
               "redraw": true
              },
              "fromcurrent": true,
              "mode": "immediate",
              "transition": {
               "duration": 0,
               "easing": "linear"
              }
             }
            ],
            "label": "2020-10-28",
            "method": "animate"
           },
           {
            "args": [
             [
              "2020-11-07"
             ],
             {
              "frame": {
               "duration": 0,
               "redraw": true
              },
              "fromcurrent": true,
              "mode": "immediate",
              "transition": {
               "duration": 0,
               "easing": "linear"
              }
             }
            ],
            "label": "2020-11-07",
            "method": "animate"
           },
           {
            "args": [
             [
              "2020-11-17"
             ],
             {
              "frame": {
               "duration": 0,
               "redraw": true
              },
              "fromcurrent": true,
              "mode": "immediate",
              "transition": {
               "duration": 0,
               "easing": "linear"
              }
             }
            ],
            "label": "2020-11-17",
            "method": "animate"
           },
           {
            "args": [
             [
              "2020-11-27"
             ],
             {
              "frame": {
               "duration": 0,
               "redraw": true
              },
              "fromcurrent": true,
              "mode": "immediate",
              "transition": {
               "duration": 0,
               "easing": "linear"
              }
             }
            ],
            "label": "2020-11-27",
            "method": "animate"
           },
           {
            "args": [
             [
              "2020-12-07"
             ],
             {
              "frame": {
               "duration": 0,
               "redraw": true
              },
              "fromcurrent": true,
              "mode": "immediate",
              "transition": {
               "duration": 0,
               "easing": "linear"
              }
             }
            ],
            "label": "2020-12-07",
            "method": "animate"
           },
           {
            "args": [
             [
              "2020-12-17"
             ],
             {
              "frame": {
               "duration": 0,
               "redraw": true
              },
              "fromcurrent": true,
              "mode": "immediate",
              "transition": {
               "duration": 0,
               "easing": "linear"
              }
             }
            ],
            "label": "2020-12-17",
            "method": "animate"
           },
           {
            "args": [
             [
              "2020-12-27"
             ],
             {
              "frame": {
               "duration": 0,
               "redraw": true
              },
              "fromcurrent": true,
              "mode": "immediate",
              "transition": {
               "duration": 0,
               "easing": "linear"
              }
             }
            ],
            "label": "2020-12-27",
            "method": "animate"
           },
           {
            "args": [
             [
              "2021-01-06"
             ],
             {
              "frame": {
               "duration": 0,
               "redraw": true
              },
              "fromcurrent": true,
              "mode": "immediate",
              "transition": {
               "duration": 0,
               "easing": "linear"
              }
             }
            ],
            "label": "2021-01-06",
            "method": "animate"
           },
           {
            "args": [
             [
              "2021-01-16"
             ],
             {
              "frame": {
               "duration": 0,
               "redraw": true
              },
              "fromcurrent": true,
              "mode": "immediate",
              "transition": {
               "duration": 0,
               "easing": "linear"
              }
             }
            ],
            "label": "2021-01-16",
            "method": "animate"
           },
           {
            "args": [
             [
              "2021-01-26"
             ],
             {
              "frame": {
               "duration": 0,
               "redraw": true
              },
              "fromcurrent": true,
              "mode": "immediate",
              "transition": {
               "duration": 0,
               "easing": "linear"
              }
             }
            ],
            "label": "2021-01-26",
            "method": "animate"
           },
           {
            "args": [
             [
              "2021-02-05"
             ],
             {
              "frame": {
               "duration": 0,
               "redraw": true
              },
              "fromcurrent": true,
              "mode": "immediate",
              "transition": {
               "duration": 0,
               "easing": "linear"
              }
             }
            ],
            "label": "2021-02-05",
            "method": "animate"
           }
          ],
          "x": 0.1,
          "xanchor": "left",
          "y": 0,
          "yanchor": "top"
         }
        ],
        "template": {
         "data": {
          "bar": [
           {
            "error_x": {
             "color": "#2a3f5f"
            },
            "error_y": {
             "color": "#2a3f5f"
            },
            "marker": {
             "line": {
              "color": "#E5ECF6",
              "width": 0.5
             }
            },
            "type": "bar"
           }
          ],
          "barpolar": [
           {
            "marker": {
             "line": {
              "color": "#E5ECF6",
              "width": 0.5
             }
            },
            "type": "barpolar"
           }
          ],
          "carpet": [
           {
            "aaxis": {
             "endlinecolor": "#2a3f5f",
             "gridcolor": "white",
             "linecolor": "white",
             "minorgridcolor": "white",
             "startlinecolor": "#2a3f5f"
            },
            "baxis": {
             "endlinecolor": "#2a3f5f",
             "gridcolor": "white",
             "linecolor": "white",
             "minorgridcolor": "white",
             "startlinecolor": "#2a3f5f"
            },
            "type": "carpet"
           }
          ],
          "choropleth": [
           {
            "colorbar": {
             "outlinewidth": 0,
             "ticks": ""
            },
            "type": "choropleth"
           }
          ],
          "contour": [
           {
            "colorbar": {
             "outlinewidth": 0,
             "ticks": ""
            },
            "colorscale": [
             [
              0,
              "#0d0887"
             ],
             [
              0.1111111111111111,
              "#46039f"
             ],
             [
              0.2222222222222222,
              "#7201a8"
             ],
             [
              0.3333333333333333,
              "#9c179e"
             ],
             [
              0.4444444444444444,
              "#bd3786"
             ],
             [
              0.5555555555555556,
              "#d8576b"
             ],
             [
              0.6666666666666666,
              "#ed7953"
             ],
             [
              0.7777777777777778,
              "#fb9f3a"
             ],
             [
              0.8888888888888888,
              "#fdca26"
             ],
             [
              1,
              "#f0f921"
             ]
            ],
            "type": "contour"
           }
          ],
          "contourcarpet": [
           {
            "colorbar": {
             "outlinewidth": 0,
             "ticks": ""
            },
            "type": "contourcarpet"
           }
          ],
          "heatmap": [
           {
            "colorbar": {
             "outlinewidth": 0,
             "ticks": ""
            },
            "colorscale": [
             [
              0,
              "#0d0887"
             ],
             [
              0.1111111111111111,
              "#46039f"
             ],
             [
              0.2222222222222222,
              "#7201a8"
             ],
             [
              0.3333333333333333,
              "#9c179e"
             ],
             [
              0.4444444444444444,
              "#bd3786"
             ],
             [
              0.5555555555555556,
              "#d8576b"
             ],
             [
              0.6666666666666666,
              "#ed7953"
             ],
             [
              0.7777777777777778,
              "#fb9f3a"
             ],
             [
              0.8888888888888888,
              "#fdca26"
             ],
             [
              1,
              "#f0f921"
             ]
            ],
            "type": "heatmap"
           }
          ],
          "heatmapgl": [
           {
            "colorbar": {
             "outlinewidth": 0,
             "ticks": ""
            },
            "colorscale": [
             [
              0,
              "#0d0887"
             ],
             [
              0.1111111111111111,
              "#46039f"
             ],
             [
              0.2222222222222222,
              "#7201a8"
             ],
             [
              0.3333333333333333,
              "#9c179e"
             ],
             [
              0.4444444444444444,
              "#bd3786"
             ],
             [
              0.5555555555555556,
              "#d8576b"
             ],
             [
              0.6666666666666666,
              "#ed7953"
             ],
             [
              0.7777777777777778,
              "#fb9f3a"
             ],
             [
              0.8888888888888888,
              "#fdca26"
             ],
             [
              1,
              "#f0f921"
             ]
            ],
            "type": "heatmapgl"
           }
          ],
          "histogram": [
           {
            "marker": {
             "colorbar": {
              "outlinewidth": 0,
              "ticks": ""
             }
            },
            "type": "histogram"
           }
          ],
          "histogram2d": [
           {
            "colorbar": {
             "outlinewidth": 0,
             "ticks": ""
            },
            "colorscale": [
             [
              0,
              "#0d0887"
             ],
             [
              0.1111111111111111,
              "#46039f"
             ],
             [
              0.2222222222222222,
              "#7201a8"
             ],
             [
              0.3333333333333333,
              "#9c179e"
             ],
             [
              0.4444444444444444,
              "#bd3786"
             ],
             [
              0.5555555555555556,
              "#d8576b"
             ],
             [
              0.6666666666666666,
              "#ed7953"
             ],
             [
              0.7777777777777778,
              "#fb9f3a"
             ],
             [
              0.8888888888888888,
              "#fdca26"
             ],
             [
              1,
              "#f0f921"
             ]
            ],
            "type": "histogram2d"
           }
          ],
          "histogram2dcontour": [
           {
            "colorbar": {
             "outlinewidth": 0,
             "ticks": ""
            },
            "colorscale": [
             [
              0,
              "#0d0887"
             ],
             [
              0.1111111111111111,
              "#46039f"
             ],
             [
              0.2222222222222222,
              "#7201a8"
             ],
             [
              0.3333333333333333,
              "#9c179e"
             ],
             [
              0.4444444444444444,
              "#bd3786"
             ],
             [
              0.5555555555555556,
              "#d8576b"
             ],
             [
              0.6666666666666666,
              "#ed7953"
             ],
             [
              0.7777777777777778,
              "#fb9f3a"
             ],
             [
              0.8888888888888888,
              "#fdca26"
             ],
             [
              1,
              "#f0f921"
             ]
            ],
            "type": "histogram2dcontour"
           }
          ],
          "mesh3d": [
           {
            "colorbar": {
             "outlinewidth": 0,
             "ticks": ""
            },
            "type": "mesh3d"
           }
          ],
          "parcoords": [
           {
            "line": {
             "colorbar": {
              "outlinewidth": 0,
              "ticks": ""
             }
            },
            "type": "parcoords"
           }
          ],
          "pie": [
           {
            "automargin": true,
            "type": "pie"
           }
          ],
          "scatter": [
           {
            "marker": {
             "colorbar": {
              "outlinewidth": 0,
              "ticks": ""
             }
            },
            "type": "scatter"
           }
          ],
          "scatter3d": [
           {
            "line": {
             "colorbar": {
              "outlinewidth": 0,
              "ticks": ""
             }
            },
            "marker": {
             "colorbar": {
              "outlinewidth": 0,
              "ticks": ""
             }
            },
            "type": "scatter3d"
           }
          ],
          "scattercarpet": [
           {
            "marker": {
             "colorbar": {
              "outlinewidth": 0,
              "ticks": ""
             }
            },
            "type": "scattercarpet"
           }
          ],
          "scattergeo": [
           {
            "marker": {
             "colorbar": {
              "outlinewidth": 0,
              "ticks": ""
             }
            },
            "type": "scattergeo"
           }
          ],
          "scattergl": [
           {
            "marker": {
             "colorbar": {
              "outlinewidth": 0,
              "ticks": ""
             }
            },
            "type": "scattergl"
           }
          ],
          "scattermapbox": [
           {
            "marker": {
             "colorbar": {
              "outlinewidth": 0,
              "ticks": ""
             }
            },
            "type": "scattermapbox"
           }
          ],
          "scatterpolar": [
           {
            "marker": {
             "colorbar": {
              "outlinewidth": 0,
              "ticks": ""
             }
            },
            "type": "scatterpolar"
           }
          ],
          "scatterpolargl": [
           {
            "marker": {
             "colorbar": {
              "outlinewidth": 0,
              "ticks": ""
             }
            },
            "type": "scatterpolargl"
           }
          ],
          "scatterternary": [
           {
            "marker": {
             "colorbar": {
              "outlinewidth": 0,
              "ticks": ""
             }
            },
            "type": "scatterternary"
           }
          ],
          "surface": [
           {
            "colorbar": {
             "outlinewidth": 0,
             "ticks": ""
            },
            "colorscale": [
             [
              0,
              "#0d0887"
             ],
             [
              0.1111111111111111,
              "#46039f"
             ],
             [
              0.2222222222222222,
              "#7201a8"
             ],
             [
              0.3333333333333333,
              "#9c179e"
             ],
             [
              0.4444444444444444,
              "#bd3786"
             ],
             [
              0.5555555555555556,
              "#d8576b"
             ],
             [
              0.6666666666666666,
              "#ed7953"
             ],
             [
              0.7777777777777778,
              "#fb9f3a"
             ],
             [
              0.8888888888888888,
              "#fdca26"
             ],
             [
              1,
              "#f0f921"
             ]
            ],
            "type": "surface"
           }
          ],
          "table": [
           {
            "cells": {
             "fill": {
              "color": "#EBF0F8"
             },
             "line": {
              "color": "white"
             }
            },
            "header": {
             "fill": {
              "color": "#C8D4E3"
             },
             "line": {
              "color": "white"
             }
            },
            "type": "table"
           }
          ]
         },
         "layout": {
          "annotationdefaults": {
           "arrowcolor": "#2a3f5f",
           "arrowhead": 0,
           "arrowwidth": 1
          },
          "autotypenumbers": "strict",
          "coloraxis": {
           "colorbar": {
            "outlinewidth": 0,
            "ticks": ""
           }
          },
          "colorscale": {
           "diverging": [
            [
             0,
             "#8e0152"
            ],
            [
             0.1,
             "#c51b7d"
            ],
            [
             0.2,
             "#de77ae"
            ],
            [
             0.3,
             "#f1b6da"
            ],
            [
             0.4,
             "#fde0ef"
            ],
            [
             0.5,
             "#f7f7f7"
            ],
            [
             0.6,
             "#e6f5d0"
            ],
            [
             0.7,
             "#b8e186"
            ],
            [
             0.8,
             "#7fbc41"
            ],
            [
             0.9,
             "#4d9221"
            ],
            [
             1,
             "#276419"
            ]
           ],
           "sequential": [
            [
             0,
             "#0d0887"
            ],
            [
             0.1111111111111111,
             "#46039f"
            ],
            [
             0.2222222222222222,
             "#7201a8"
            ],
            [
             0.3333333333333333,
             "#9c179e"
            ],
            [
             0.4444444444444444,
             "#bd3786"
            ],
            [
             0.5555555555555556,
             "#d8576b"
            ],
            [
             0.6666666666666666,
             "#ed7953"
            ],
            [
             0.7777777777777778,
             "#fb9f3a"
            ],
            [
             0.8888888888888888,
             "#fdca26"
            ],
            [
             1,
             "#f0f921"
            ]
           ],
           "sequentialminus": [
            [
             0,
             "#0d0887"
            ],
            [
             0.1111111111111111,
             "#46039f"
            ],
            [
             0.2222222222222222,
             "#7201a8"
            ],
            [
             0.3333333333333333,
             "#9c179e"
            ],
            [
             0.4444444444444444,
             "#bd3786"
            ],
            [
             0.5555555555555556,
             "#d8576b"
            ],
            [
             0.6666666666666666,
             "#ed7953"
            ],
            [
             0.7777777777777778,
             "#fb9f3a"
            ],
            [
             0.8888888888888888,
             "#fdca26"
            ],
            [
             1,
             "#f0f921"
            ]
           ]
          },
          "colorway": [
           "#636efa",
           "#EF553B",
           "#00cc96",
           "#ab63fa",
           "#FFA15A",
           "#19d3f3",
           "#FF6692",
           "#B6E880",
           "#FF97FF",
           "#FECB52"
          ],
          "font": {
           "color": "#2a3f5f"
          },
          "geo": {
           "bgcolor": "white",
           "lakecolor": "white",
           "landcolor": "#E5ECF6",
           "showlakes": true,
           "showland": true,
           "subunitcolor": "white"
          },
          "hoverlabel": {
           "align": "left"
          },
          "hovermode": "closest",
          "mapbox": {
           "style": "light"
          },
          "paper_bgcolor": "white",
          "plot_bgcolor": "#E5ECF6",
          "polar": {
           "angularaxis": {
            "gridcolor": "white",
            "linecolor": "white",
            "ticks": ""
           },
           "bgcolor": "#E5ECF6",
           "radialaxis": {
            "gridcolor": "white",
            "linecolor": "white",
            "ticks": ""
           }
          },
          "scene": {
           "xaxis": {
            "backgroundcolor": "#E5ECF6",
            "gridcolor": "white",
            "gridwidth": 2,
            "linecolor": "white",
            "showbackground": true,
            "ticks": "",
            "zerolinecolor": "white"
           },
           "yaxis": {
            "backgroundcolor": "#E5ECF6",
            "gridcolor": "white",
            "gridwidth": 2,
            "linecolor": "white",
            "showbackground": true,
            "ticks": "",
            "zerolinecolor": "white"
           },
           "zaxis": {
            "backgroundcolor": "#E5ECF6",
            "gridcolor": "white",
            "gridwidth": 2,
            "linecolor": "white",
            "showbackground": true,
            "ticks": "",
            "zerolinecolor": "white"
           }
          },
          "shapedefaults": {
           "line": {
            "color": "#2a3f5f"
           }
          },
          "ternary": {
           "aaxis": {
            "gridcolor": "white",
            "linecolor": "white",
            "ticks": ""
           },
           "baxis": {
            "gridcolor": "white",
            "linecolor": "white",
            "ticks": ""
           },
           "bgcolor": "#E5ECF6",
           "caxis": {
            "gridcolor": "white",
            "linecolor": "white",
            "ticks": ""
           }
          },
          "title": {
           "x": 0.05
          },
          "xaxis": {
           "automargin": true,
           "gridcolor": "white",
           "linecolor": "white",
           "ticks": "",
           "title": {
            "standoff": 15
           },
           "zerolinecolor": "white",
           "zerolinewidth": 2
          },
          "yaxis": {
           "automargin": true,
           "gridcolor": "white",
           "linecolor": "white",
           "ticks": "",
           "title": {
            "standoff": 15
           },
           "zerolinecolor": "white",
           "zerolinewidth": 2
          }
         }
        },
        "updatemenus": [
         {
          "active": 1,
          "buttons": [
           {
            "args": [
             null,
             {
              "frame": {
               "duration": 1000,
               "redraw": true
              },
              "fromcurrent": true,
              "mode": "immediate",
              "transition": {
               "duration": 500,
               "easing": "linear"
              }
             }
            ],
            "label": "&#9654;",
            "method": "animate"
           },
           {
            "args": [
             [
              null
             ],
             {
              "frame": {
               "duration": 0,
               "redraw": true
              },
              "fromcurrent": true,
              "mode": "immediate",
              "transition": {
               "duration": 0,
               "easing": "linear"
              }
             }
            ],
            "label": "&#9724;",
            "method": "animate"
           }
          ],
          "direction": "left",
          "pad": {
           "r": 10,
           "t": 200
          },
          "showactive": false,
          "type": "buttons",
          "x": 0.1,
          "xanchor": "right",
          "y": 0,
          "yanchor": "top"
         }
        ],
        "xaxis": {
         "anchor": "y",
         "autorange": true,
         "domain": [
          0,
          1
         ],
         "range": [
          -0.5,
          1.5
         ],
         "title": {
          "text": "Country"
         },
         "type": "category"
        },
        "yaxis": {
         "anchor": "x",
         "autorange": true,
         "domain": [
          0,
          1
         ],
         "range": [
          0,
          2790.5263157894738
         ],
         "title": {
          "text": "New Confirmed"
         },
         "type": "linear"
        }
       }
      },
      "image/png": "[encoded data removed]",
      "text/html": [
       "<div>                            <div id=\"e4e3044b-fe46-43db-bd35-69a61f57de3f\" class=\"plotly-graph-div\" style=\"height:800px; width:100%;\"></div>            <script type=\"text/javascript\">                require([\"plotly\"], function(Plotly) {                    window.PLOTLYENV=window.PLOTLYENV || {};                                    if (document.getElementById(\"e4e3044b-fe46-43db-bd35-69a61f57de3f\")) {                    Plotly.newPlot(                        \"e4e3044b-fe46-43db-bd35-69a61f57de3f\",                        [{\"alignmentgroup\": \"True\", \"hovertemplate\": \"<b>%{hovertext}</b><br><br>Date=2020-01-22<br>Country=%{x}<br>New Confirmed=%{y}<extra></extra>\", \"hovertext\": [\"Italy\", \"US\"], \"ids\": [\"Italy\", \"US\"], \"legendgroup\": \"\", \"marker\": {\"color\": \"#636efa\"}, \"name\": \"\", \"offsetgroup\": \"\", \"orientation\": \"v\", \"showlegend\": false, \"textposition\": \"auto\", \"type\": \"bar\", \"x\": [\"Italy\", \"US\"], \"xaxis\": \"x\", \"y\": [null, null], \"yaxis\": \"y\"}],                        {\"barmode\": \"relative\", \"height\": 800, \"legend\": {\"tracegroupgap\": 0}, \"margin\": {\"b\": 200, \"l\": 20, \"r\": 20, \"t\": 20}, \"sliders\": [{\"active\": 0, \"currentvalue\": {\"prefix\": \"Date=\"}, \"len\": 0.9, \"pad\": {\"r\": 10, \"t\": 200}, \"steps\": [{\"args\": [[\"2020-01-22\"], {\"frame\": {\"duration\": 0, \"redraw\": true}, \"fromcurrent\": true, \"mode\": \"immediate\", \"transition\": {\"duration\": 0, \"easing\": \"linear\"}}], \"label\": \"2020-01-22\", \"method\": \"animate\"}, {\"args\": [[\"2020-02-01\"], {\"frame\": {\"duration\": 0, \"redraw\": true}, \"fromcurrent\": true, \"mode\": \"immediate\", \"transition\": {\"duration\": 0, \"easing\": \"linear\"}}], \"label\": \"2020-02-01\", \"method\": \"animate\"}, {\"args\": [[\"2020-02-11\"], {\"frame\": {\"duration\": 0, \"redraw\": true}, \"fromcurrent\": true, \"mode\": \"immediate\", \"transition\": {\"duration\": 0, \"easing\": \"linear\"}}], \"label\": \"2020-02-11\", \"method\": \"animate\"}, {\"args\": [[\"2020-02-21\"], {\"frame\": {\"duration\": 0, \"redraw\": true}, \"fromcurrent\": true, \"mode\": \"immediate\", \"transition\": {\"duration\": 0, \"easing\": \"linear\"}}], \"label\": \"2020-02-21\", \"method\": \"animate\"}, {\"args\": [[\"2020-03-02\"], {\"frame\": {\"duration\": 0, \"redraw\": true}, \"fromcurrent\": true, \"mode\": \"immediate\", \"transition\": {\"duration\": 0, \"easing\": \"linear\"}}], \"label\": \"2020-03-02\", \"method\": \"animate\"}, {\"args\": [[\"2020-03-12\"], {\"frame\": {\"duration\": 0, \"redraw\": true}, \"fromcurrent\": true, \"mode\": \"immediate\", \"transition\": {\"duration\": 0, \"easing\": \"linear\"}}], \"label\": \"2020-03-12\", \"method\": \"animate\"}, {\"args\": [[\"2020-03-22\"], {\"frame\": {\"duration\": 0, \"redraw\": true}, \"fromcurrent\": true, \"mode\": \"immediate\", \"transition\": {\"duration\": 0, \"easing\": \"linear\"}}], \"label\": \"2020-03-22\", \"method\": \"animate\"}, {\"args\": [[\"2020-04-01\"], {\"frame\": {\"duration\": 0, \"redraw\": true}, \"fromcurrent\": true, \"mode\": \"immediate\", \"transition\": {\"duration\": 0, \"easing\": \"linear\"}}], \"label\": \"2020-04-01\", \"method\": \"animate\"}, {\"args\": [[\"2020-04-11\"], {\"frame\": {\"duration\": 0, \"redraw\": true}, \"fromcurrent\": true, \"mode\": \"immediate\", \"transition\": {\"duration\": 0, \"easing\": \"linear\"}}], \"label\": \"2020-04-11\", \"method\": \"animate\"}, {\"args\": [[\"2020-04-21\"], {\"frame\": {\"duration\": 0, \"redraw\": true}, \"fromcurrent\": true, \"mode\": \"immediate\", \"transition\": {\"duration\": 0, \"easing\": \"linear\"}}], \"label\": \"2020-04-21\", \"method\": \"animate\"}, {\"args\": [[\"2020-05-01\"], {\"frame\": {\"duration\": 0, \"redraw\": true}, \"fromcurrent\": true, \"mode\": \"immediate\", \"transition\": {\"duration\": 0, \"easing\": \"linear\"}}], \"label\": \"2020-05-01\", \"method\": \"animate\"}, {\"args\": [[\"2020-05-11\"], {\"frame\": {\"duration\": 0, \"redraw\": true}, \"fromcurrent\": true, \"mode\": \"immediate\", \"transition\": {\"duration\": 0, \"easing\": \"linear\"}}], \"label\": \"2020-05-11\", \"method\": \"animate\"}, {\"args\": [[\"2020-05-21\"], {\"frame\": {\"duration\": 0, \"redraw\": true}, \"fromcurrent\": true, \"mode\": \"immediate\", \"transition\": {\"duration\": 0, \"easing\": \"linear\"}}], \"label\": \"2020-05-21\", \"method\": \"animate\"}, {\"args\": [[\"2020-05-31\"], {\"frame\": {\"duration\": 0, \"redraw\": true}, \"fromcurrent\": true, \"mode\": \"immediate\", \"transition\": {\"duration\": 0, \"easing\": \"linear\"}}], \"label\": \"2020-05-31\", \"method\": \"animate\"}, {\"args\": [[\"2020-06-10\"], {\"frame\": {\"duration\": 0, \"redraw\": true}, \"fromcurrent\": true, \"mode\": \"immediate\", \"transition\": {\"duration\": 0, \"easing\": \"linear\"}}], \"label\": \"2020-06-10\", \"method\": \"animate\"}, {\"args\": [[\"2020-06-20\"], {\"frame\": {\"duration\": 0, \"redraw\": true}, \"fromcurrent\": true, \"mode\": \"immediate\", \"transition\": {\"duration\": 0, \"easing\": \"linear\"}}], \"label\": \"2020-06-20\", \"method\": \"animate\"}, {\"args\": [[\"2020-06-30\"], {\"frame\": {\"duration\": 0, \"redraw\": true}, \"fromcurrent\": true, \"mode\": \"immediate\", \"transition\": {\"duration\": 0, \"easing\": \"linear\"}}], \"label\": \"2020-06-30\", \"method\": \"animate\"}, {\"args\": [[\"2020-07-10\"], {\"frame\": {\"duration\": 0, \"redraw\": true}, \"fromcurrent\": true, \"mode\": \"immediate\", \"transition\": {\"duration\": 0, \"easing\": \"linear\"}}], \"label\": \"2020-07-10\", \"method\": \"animate\"}, {\"args\": [[\"2020-07-20\"], {\"frame\": {\"duration\": 0, \"redraw\": true}, \"fromcurrent\": true, \"mode\": \"immediate\", \"transition\": {\"duration\": 0, \"easing\": \"linear\"}}], \"label\": \"2020-07-20\", \"method\": \"animate\"}, {\"args\": [[\"2020-07-30\"], {\"frame\": {\"duration\": 0, \"redraw\": true}, \"fromcurrent\": true, \"mode\": \"immediate\", \"transition\": {\"duration\": 0, \"easing\": \"linear\"}}], \"label\": \"2020-07-30\", \"method\": \"animate\"}, {\"args\": [[\"2020-08-09\"], {\"frame\": {\"duration\": 0, \"redraw\": true}, \"fromcurrent\": true, \"mode\": \"immediate\", \"transition\": {\"duration\": 0, \"easing\": \"linear\"}}], \"label\": \"2020-08-09\", \"method\": \"animate\"}, {\"args\": [[\"2020-08-19\"], {\"frame\": {\"duration\": 0, \"redraw\": true}, \"fromcurrent\": true, \"mode\": \"immediate\", \"transition\": {\"duration\": 0, \"easing\": \"linear\"}}], \"label\": \"2020-08-19\", \"method\": \"animate\"}, {\"args\": [[\"2020-08-29\"], {\"frame\": {\"duration\": 0, \"redraw\": true}, \"fromcurrent\": true, \"mode\": \"immediate\", \"transition\": {\"duration\": 0, \"easing\": \"linear\"}}], \"label\": \"2020-08-29\", \"method\": \"animate\"}, {\"args\": [[\"2020-09-08\"], {\"frame\": {\"duration\": 0, \"redraw\": true}, \"fromcurrent\": true, \"mode\": \"immediate\", \"transition\": {\"duration\": 0, \"easing\": \"linear\"}}], \"label\": \"2020-09-08\", \"method\": \"animate\"}, {\"args\": [[\"2020-09-18\"], {\"frame\": {\"duration\": 0, \"redraw\": true}, \"fromcurrent\": true, \"mode\": \"immediate\", \"transition\": {\"duration\": 0, \"easing\": \"linear\"}}], \"label\": \"2020-09-18\", \"method\": \"animate\"}, {\"args\": [[\"2020-09-28\"], {\"frame\": {\"duration\": 0, \"redraw\": true}, \"fromcurrent\": true, \"mode\": \"immediate\", \"transition\": {\"duration\": 0, \"easing\": \"linear\"}}], \"label\": \"2020-09-28\", \"method\": \"animate\"}, {\"args\": [[\"2020-10-08\"], {\"frame\": {\"duration\": 0, \"redraw\": true}, \"fromcurrent\": true, \"mode\": \"immediate\", \"transition\": {\"duration\": 0, \"easing\": \"linear\"}}], \"label\": \"2020-10-08\", \"method\": \"animate\"}, {\"args\": [[\"2020-10-18\"], {\"frame\": {\"duration\": 0, \"redraw\": true}, \"fromcurrent\": true, \"mode\": \"immediate\", \"transition\": {\"duration\": 0, \"easing\": \"linear\"}}], \"label\": \"2020-10-18\", \"method\": \"animate\"}, {\"args\": [[\"2020-10-28\"], {\"frame\": {\"duration\": 0, \"redraw\": true}, \"fromcurrent\": true, \"mode\": \"immediate\", \"transition\": {\"duration\": 0, \"easing\": \"linear\"}}], \"label\": \"2020-10-28\", \"method\": \"animate\"}, {\"args\": [[\"2020-11-07\"], {\"frame\": {\"duration\": 0, \"redraw\": true}, \"fromcurrent\": true, \"mode\": \"immediate\", \"transition\": {\"duration\": 0, \"easing\": \"linear\"}}], \"label\": \"2020-11-07\", \"method\": \"animate\"}, {\"args\": [[\"2020-11-17\"], {\"frame\": {\"duration\": 0, \"redraw\": true}, \"fromcurrent\": true, \"mode\": \"immediate\", \"transition\": {\"duration\": 0, \"easing\": \"linear\"}}], \"label\": \"2020-11-17\", \"method\": \"animate\"}, {\"args\": [[\"2020-11-27\"], {\"frame\": {\"duration\": 0, \"redraw\": true}, \"fromcurrent\": true, \"mode\": \"immediate\", \"transition\": {\"duration\": 0, \"easing\": \"linear\"}}], \"label\": \"2020-11-27\", \"method\": \"animate\"}, {\"args\": [[\"2020-12-07\"], {\"frame\": {\"duration\": 0, \"redraw\": true}, \"fromcurrent\": true, \"mode\": \"immediate\", \"transition\": {\"duration\": 0, \"easing\": \"linear\"}}], \"label\": \"2020-12-07\", \"method\": \"animate\"}, {\"args\": [[\"2020-12-17\"], {\"frame\": {\"duration\": 0, \"redraw\": true}, \"fromcurrent\": true, \"mode\": \"immediate\", \"transition\": {\"duration\": 0, \"easing\": \"linear\"}}], \"label\": \"2020-12-17\", \"method\": \"animate\"}, {\"args\": [[\"2020-12-27\"], {\"frame\": {\"duration\": 0, \"redraw\": true}, \"fromcurrent\": true, \"mode\": \"immediate\", \"transition\": {\"duration\": 0, \"easing\": \"linear\"}}], \"label\": \"2020-12-27\", \"method\": \"animate\"}, {\"args\": [[\"2021-01-06\"], {\"frame\": {\"duration\": 0, \"redraw\": true}, \"fromcurrent\": true, \"mode\": \"immediate\", \"transition\": {\"duration\": 0, \"easing\": \"linear\"}}], \"label\": \"2021-01-06\", \"method\": \"animate\"}, {\"args\": [[\"2021-01-16\"], {\"frame\": {\"duration\": 0, \"redraw\": true}, \"fromcurrent\": true, \"mode\": \"immediate\", \"transition\": {\"duration\": 0, \"easing\": \"linear\"}}], \"label\": \"2021-01-16\", \"method\": \"animate\"}, {\"args\": [[\"2021-01-26\"], {\"frame\": {\"duration\": 0, \"redraw\": true}, \"fromcurrent\": true, \"mode\": \"immediate\", \"transition\": {\"duration\": 0, \"easing\": \"linear\"}}], \"label\": \"2021-01-26\", \"method\": \"animate\"}, {\"args\": [[\"2021-02-05\"], {\"frame\": {\"duration\": 0, \"redraw\": true}, \"fromcurrent\": true, \"mode\": \"immediate\", \"transition\": {\"duration\": 0, \"easing\": \"linear\"}}], \"label\": \"2021-02-05\", \"method\": \"animate\"}], \"x\": 0.1, \"xanchor\": \"left\", \"y\": 0, \"yanchor\": \"top\"}], \"template\": {\"data\": {\"bar\": [{\"error_x\": {\"color\": \"#2a3f5f\"}, \"error_y\": {\"color\": \"#2a3f5f\"}, \"marker\": {\"line\": {\"color\": \"#E5ECF6\", \"width\": 0.5}}, \"type\": \"bar\"}], \"barpolar\": [{\"marker\": {\"line\": {\"color\": \"#E5ECF6\", \"width\": 0.5}}, \"type\": \"barpolar\"}], \"carpet\": [{\"aaxis\": {\"endlinecolor\": \"#2a3f5f\", \"gridcolor\": \"white\", \"linecolor\": \"white\", \"minorgridcolor\": \"white\", \"startlinecolor\": \"#2a3f5f\"}, \"baxis\": {\"endlinecolor\": \"#2a3f5f\", \"gridcolor\": \"white\", \"linecolor\": \"white\", \"minorgridcolor\": \"white\", \"startlinecolor\": \"#2a3f5f\"}, \"type\": \"carpet\"}], \"choropleth\": [{\"colorbar\": {\"outlinewidth\": 0, \"ticks\": \"\"}, \"type\": \"choropleth\"}], \"contour\": [{\"colorbar\": {\"outlinewidth\": 0, \"ticks\": \"\"}, \"colorscale\": [[0.0, \"#0d0887\"], [0.1111111111111111, \"#46039f\"], [0.2222222222222222, \"#7201a8\"], [0.3333333333333333, \"#9c179e\"], [0.4444444444444444, \"#bd3786\"], [0.5555555555555556, \"#d8576b\"], [0.6666666666666666, \"#ed7953\"], [0.7777777777777778, \"#fb9f3a\"], [0.8888888888888888, \"#fdca26\"], [1.0, \"#f0f921\"]], \"type\": \"contour\"}], \"contourcarpet\": [{\"colorbar\": {\"outlinewidth\": 0, \"ticks\": \"\"}, \"type\": \"contourcarpet\"}], \"heatmap\": [{\"colorbar\": {\"outlinewidth\": 0, \"ticks\": \"\"}, \"colorscale\": [[0.0, \"#0d0887\"], [0.1111111111111111, \"#46039f\"], [0.2222222222222222, \"#7201a8\"], [0.3333333333333333, \"#9c179e\"], [0.4444444444444444, \"#bd3786\"], [0.5555555555555556, \"#d8576b\"], [0.6666666666666666, \"#ed7953\"], [0.7777777777777778, \"#fb9f3a\"], [0.8888888888888888, \"#fdca26\"], [1.0, \"#f0f921\"]], \"type\": \"heatmap\"}], \"heatmapgl\": [{\"colorbar\": {\"outlinewidth\": 0, \"ticks\": \"\"}, \"colorscale\": [[0.0, \"#0d0887\"], [0.1111111111111111, \"#46039f\"], [0.2222222222222222, \"#7201a8\"], [0.3333333333333333, \"#9c179e\"], [0.4444444444444444, \"#bd3786\"], [0.5555555555555556, \"#d8576b\"], [0.6666666666666666, \"#ed7953\"], [0.7777777777777778, \"#fb9f3a\"], [0.8888888888888888, \"#fdca26\"], [1.0, \"#f0f921\"]], \"type\": \"heatmapgl\"}], \"histogram\": [{\"marker\": {\"colorbar\": {\"outlinewidth\": 0, \"ticks\": \"\"}}, \"type\": \"histogram\"}], \"histogram2d\": [{\"colorbar\": {\"outlinewidth\": 0, \"ticks\": \"\"}, \"colorscale\": [[0.0, \"#0d0887\"], [0.1111111111111111, \"#46039f\"], [0.2222222222222222, \"#7201a8\"], [0.3333333333333333, \"#9c179e\"], [0.4444444444444444, \"#bd3786\"], [0.5555555555555556, \"#d8576b\"], [0.6666666666666666, \"#ed7953\"], [0.7777777777777778, \"#fb9f3a\"], [0.8888888888888888, \"#fdca26\"], [1.0, \"#f0f921\"]], \"type\": \"histogram2d\"}], \"histogram2dcontour\": [{\"colorbar\": {\"outlinewidth\": 0, \"ticks\": \"\"}, \"colorscale\": [[0.0, \"#0d0887\"], [0.1111111111111111, \"#46039f\"], [0.2222222222222222, \"#7201a8\"], [0.3333333333333333, \"#9c179e\"], [0.4444444444444444, \"#bd3786\"], [0.5555555555555556, \"#d8576b\"], [0.6666666666666666, \"#ed7953\"], [0.7777777777777778, \"#fb9f3a\"], [0.8888888888888888, \"#fdca26\"], [1.0, \"#f0f921\"]], \"type\": \"histogram2dcontour\"}], \"mesh3d\": [{\"colorbar\": {\"outlinewidth\": 0, \"ticks\": \"\"}, \"type\": \"mesh3d\"}], \"parcoords\": [{\"line\": {\"colorbar\": {\"outlinewidth\": 0, \"ticks\": \"\"}}, \"type\": \"parcoords\"}], \"pie\": [{\"automargin\": true, \"type\": \"pie\"}], \"scatter\": [{\"marker\": {\"colorbar\": {\"outlinewidth\": 0, \"ticks\": \"\"}}, \"type\": \"scatter\"}], \"scatter3d\": [{\"line\": {\"colorbar\": {\"outlinewidth\": 0, \"ticks\": \"\"}}, \"marker\": {\"colorbar\": {\"outlinewidth\": 0, \"ticks\": \"\"}}, \"type\": \"scatter3d\"}], \"scattercarpet\": [{\"marker\": {\"colorbar\": {\"outlinewidth\": 0, \"ticks\": \"\"}}, \"type\": \"scattercarpet\"}], \"scattergeo\": [{\"marker\": {\"colorbar\": {\"outlinewidth\": 0, \"ticks\": \"\"}}, \"type\": \"scattergeo\"}], \"scattergl\": [{\"marker\": {\"colorbar\": {\"outlinewidth\": 0, \"ticks\": \"\"}}, \"type\": \"scattergl\"}], \"scattermapbox\": [{\"marker\": {\"colorbar\": {\"outlinewidth\": 0, \"ticks\": \"\"}}, \"type\": \"scattermapbox\"}], \"scatterpolar\": [{\"marker\": {\"colorbar\": {\"outlinewidth\": 0, \"ticks\": \"\"}}, \"type\": \"scatterpolar\"}], \"scatterpolargl\": [{\"marker\": {\"colorbar\": {\"outlinewidth\": 0, \"ticks\": \"\"}}, \"type\": \"scatterpolargl\"}], \"scatterternary\": [{\"marker\": {\"colorbar\": {\"outlinewidth\": 0, \"ticks\": \"\"}}, \"type\": \"scatterternary\"}], \"surface\": [{\"colorbar\": {\"outlinewidth\": 0, \"ticks\": \"\"}, \"colorscale\": [[0.0, \"#0d0887\"], [0.1111111111111111, \"#46039f\"], [0.2222222222222222, \"#7201a8\"], [0.3333333333333333, \"#9c179e\"], [0.4444444444444444, \"#bd3786\"], [0.5555555555555556, \"#d8576b\"], [0.6666666666666666, \"#ed7953\"], [0.7777777777777778, \"#fb9f3a\"], [0.8888888888888888, \"#fdca26\"], [1.0, \"#f0f921\"]], \"type\": \"surface\"}], \"table\": [{\"cells\": {\"fill\": {\"color\": \"#EBF0F8\"}, \"line\": {\"color\": \"white\"}}, \"header\": {\"fill\": {\"color\": \"#C8D4E3\"}, \"line\": {\"color\": \"white\"}}, \"type\": \"table\"}]}, \"layout\": {\"annotationdefaults\": {\"arrowcolor\": \"#2a3f5f\", \"arrowhead\": 0, \"arrowwidth\": 1}, \"autotypenumbers\": \"strict\", \"coloraxis\": {\"colorbar\": {\"outlinewidth\": 0, \"ticks\": \"\"}}, \"colorscale\": {\"diverging\": [[0, \"#8e0152\"], [0.1, \"#c51b7d\"], [0.2, \"#de77ae\"], [0.3, \"#f1b6da\"], [0.4, \"#fde0ef\"], [0.5, \"#f7f7f7\"], [0.6, \"#e6f5d0\"], [0.7, \"#b8e186\"], [0.8, \"#7fbc41\"], [0.9, \"#4d9221\"], [1, \"#276419\"]], \"sequential\": [[0.0, \"#0d0887\"], [0.1111111111111111, \"#46039f\"], [0.2222222222222222, \"#7201a8\"], [0.3333333333333333, \"#9c179e\"], [0.4444444444444444, \"#bd3786\"], [0.5555555555555556, \"#d8576b\"], [0.6666666666666666, \"#ed7953\"], [0.7777777777777778, \"#fb9f3a\"], [0.8888888888888888, \"#fdca26\"], [1.0, \"#f0f921\"]], \"sequentialminus\": [[0.0, \"#0d0887\"], [0.1111111111111111, \"#46039f\"], [0.2222222222222222, \"#7201a8\"], [0.3333333333333333, \"#9c179e\"], [0.4444444444444444, \"#bd3786\"], [0.5555555555555556, \"#d8576b\"], [0.6666666666666666, \"#ed7953\"], [0.7777777777777778, \"#fb9f3a\"], [0.8888888888888888, \"#fdca26\"], [1.0, \"#f0f921\"]]}, \"colorway\": [\"#636efa\", \"#EF553B\", \"#00cc96\", \"#ab63fa\", \"#FFA15A\", \"#19d3f3\", \"#FF6692\", \"#B6E880\", \"#FF97FF\", \"#FECB52\"], \"font\": {\"color\": \"#2a3f5f\"}, \"geo\": {\"bgcolor\": \"white\", \"lakecolor\": \"white\", \"landcolor\": \"#E5ECF6\", \"showlakes\": true, \"showland\": true, \"subunitcolor\": \"white\"}, \"hoverlabel\": {\"align\": \"left\"}, \"hovermode\": \"closest\", \"mapbox\": {\"style\": \"light\"}, \"paper_bgcolor\": \"white\", \"plot_bgcolor\": \"#E5ECF6\", \"polar\": {\"angularaxis\": {\"gridcolor\": \"white\", \"linecolor\": \"white\", \"ticks\": \"\"}, \"bgcolor\": \"#E5ECF6\", \"radialaxis\": {\"gridcolor\": \"white\", \"linecolor\": \"white\", \"ticks\": \"\"}}, \"scene\": {\"xaxis\": {\"backgroundcolor\": \"#E5ECF6\", \"gridcolor\": \"white\", \"gridwidth\": 2, \"linecolor\": \"white\", \"showbackground\": true, \"ticks\": \"\", \"zerolinecolor\": \"white\"}, \"yaxis\": {\"backgroundcolor\": \"#E5ECF6\", \"gridcolor\": \"white\", \"gridwidth\": 2, \"linecolor\": \"white\", \"showbackground\": true, \"ticks\": \"\", \"zerolinecolor\": \"white\"}, \"zaxis\": {\"backgroundcolor\": \"#E5ECF6\", \"gridcolor\": \"white\", \"gridwidth\": 2, \"linecolor\": \"white\", \"showbackground\": true, \"ticks\": \"\", \"zerolinecolor\": \"white\"}}, \"shapedefaults\": {\"line\": {\"color\": \"#2a3f5f\"}}, \"ternary\": {\"aaxis\": {\"gridcolor\": \"white\", \"linecolor\": \"white\", \"ticks\": \"\"}, \"baxis\": {\"gridcolor\": \"white\", \"linecolor\": \"white\", \"ticks\": \"\"}, \"bgcolor\": \"#E5ECF6\", \"caxis\": {\"gridcolor\": \"white\", \"linecolor\": \"white\", \"ticks\": \"\"}}, \"title\": {\"x\": 0.05}, \"xaxis\": {\"automargin\": true, \"gridcolor\": \"white\", \"linecolor\": \"white\", \"ticks\": \"\", \"title\": {\"standoff\": 15}, \"zerolinecolor\": \"white\", \"zerolinewidth\": 2}, \"yaxis\": {\"automargin\": true, \"gridcolor\": \"white\", \"linecolor\": \"white\", \"ticks\": \"\", \"title\": {\"standoff\": 15}, \"zerolinecolor\": \"white\", \"zerolinewidth\": 2}}}, \"updatemenus\": [{\"buttons\": [{\"args\": [null, {\"frame\": {\"duration\": 1000, \"redraw\": true}, \"fromcurrent\": true, \"mode\": \"immediate\", \"transition\": {\"duration\": 500, \"easing\": \"linear\"}}], \"label\": \"&#9654;\", \"method\": \"animate\"}, {\"args\": [[null], {\"frame\": {\"duration\": 0, \"redraw\": true}, \"fromcurrent\": true, \"mode\": \"immediate\", \"transition\": {\"duration\": 0, \"easing\": \"linear\"}}], \"label\": \"&#9724;\", \"method\": \"animate\"}], \"direction\": \"left\", \"pad\": {\"r\": 10, \"t\": 200}, \"showactive\": false, \"type\": \"buttons\", \"x\": 0.1, \"xanchor\": \"right\", \"y\": 0, \"yanchor\": \"top\"}], \"xaxis\": {\"anchor\": \"y\", \"domain\": [0.0, 1.0], \"title\": {\"text\": \"Country\"}}, \"yaxis\": {\"anchor\": \"x\", \"domain\": [0.0, 1.0], \"title\": {\"text\": \"New Confirmed\"}}},                        {\"responsive\": true}                    ).then(function(){\n",
       "                            Plotly.addFrames('e4e3044b-fe46-43db-bd35-69a61f57de3f', [{\"data\": [{\"alignmentgroup\": \"True\", \"hovertemplate\": \"<b>%{hovertext}</b><br><br>Date=2020-01-22<br>Country=%{x}<br>New Confirmed=%{y}<extra></extra>\", \"hovertext\": [\"Italy\", \"US\"], \"ids\": [\"Italy\", \"US\"], \"legendgroup\": \"\", \"marker\": {\"color\": \"#636efa\"}, \"name\": \"\", \"offsetgroup\": \"\", \"orientation\": \"v\", \"showlegend\": false, \"textposition\": \"auto\", \"x\": [\"Italy\", \"US\"], \"xaxis\": \"x\", \"y\": [null, null], \"yaxis\": \"y\", \"type\": \"bar\"}], \"name\": \"2020-01-22\"}, {\"data\": [{\"alignmentgroup\": \"True\", \"hovertemplate\": \"<b>%{hovertext}</b><br><br>Date=2020-02-01<br>Country=%{x}<br>New Confirmed=%{y}<extra></extra>\", \"hovertext\": [\"Italy\", \"US\"], \"ids\": [\"Italy\", \"US\"], \"legendgroup\": \"\", \"marker\": {\"color\": \"#636efa\"}, \"name\": \"\", \"offsetgroup\": \"\", \"orientation\": \"v\", \"showlegend\": false, \"textposition\": \"auto\", \"x\": [\"Italy\", \"US\"], \"xaxis\": \"x\", \"y\": [0.0, 0.0], \"yaxis\": \"y\", \"type\": \"bar\"}], \"name\": \"2020-02-01\"}, {\"data\": [{\"alignmentgroup\": \"True\", \"hovertemplate\": \"<b>%{hovertext}</b><br><br>Date=2020-02-11<br>Country=%{x}<br>New Confirmed=%{y}<extra></extra>\", \"hovertext\": [\"Italy\", \"US\"], \"ids\": [\"Italy\", \"US\"], \"legendgroup\": \"\", \"marker\": {\"color\": \"#636efa\"}, \"name\": \"\", \"offsetgroup\": \"\", \"orientation\": \"v\", \"showlegend\": false, \"textposition\": \"auto\", \"x\": [\"Italy\", \"US\"], \"xaxis\": \"x\", \"y\": [0.0, 1.0], \"yaxis\": \"y\", \"type\": \"bar\"}], \"name\": \"2020-02-11\"}, {\"data\": [{\"alignmentgroup\": \"True\", \"hovertemplate\": \"<b>%{hovertext}</b><br><br>Date=2020-02-21<br>Country=%{x}<br>New Confirmed=%{y}<extra></extra>\", \"hovertext\": [\"Italy\", \"US\"], \"ids\": [\"Italy\", \"US\"], \"legendgroup\": \"\", \"marker\": {\"color\": \"#636efa\"}, \"name\": \"\", \"offsetgroup\": \"\", \"orientation\": \"v\", \"showlegend\": false, \"textposition\": \"auto\", \"x\": [\"Italy\", \"US\"], \"xaxis\": \"x\", \"y\": [17.0, 2.0], \"yaxis\": \"y\", \"type\": \"bar\"}], \"name\": \"2020-02-21\"}, {\"data\": [{\"alignmentgroup\": \"True\", \"hovertemplate\": \"<b>%{hovertext}</b><br><br>Date=2020-03-02<br>Country=%{x}<br>New Confirmed=%{y}<extra></extra>\", \"hovertext\": [\"Italy\", \"US\"], \"ids\": [\"Italy\", \"US\"], \"legendgroup\": \"\", \"marker\": {\"color\": \"#636efa\"}, \"name\": \"\", \"offsetgroup\": \"\", \"orientation\": \"v\", \"showlegend\": false, \"textposition\": \"auto\", \"x\": [\"Italy\", \"US\"], \"xaxis\": \"x\", \"y\": [342.0, 23.0], \"yaxis\": \"y\", \"type\": \"bar\"}], \"name\": \"2020-03-02\"}, {\"data\": [{\"alignmentgroup\": \"True\", \"hovertemplate\": \"<b>%{hovertext}</b><br><br>Date=2020-03-12<br>Country=%{x}<br>New Confirmed=%{y}<extra></extra>\", \"hovertext\": [\"Italy\", \"US\"], \"ids\": [\"Italy\", \"US\"], \"legendgroup\": \"\", \"marker\": {\"color\": \"#636efa\"}, \"name\": \"\", \"offsetgroup\": \"\", \"orientation\": \"v\", \"showlegend\": false, \"textposition\": \"auto\", \"x\": [\"Italy\", \"US\"], \"xaxis\": \"x\", \"y\": [2651.0, 439.0], \"yaxis\": \"y\", \"type\": \"bar\"}], \"name\": \"2020-03-12\"}, {\"data\": [{\"alignmentgroup\": \"True\", \"hovertemplate\": \"<b>%{hovertext}</b><br><br>Date=2020-03-22<br>Country=%{x}<br>New Confirmed=%{y}<extra></extra>\", \"hovertext\": [\"Italy\", \"US\"], \"ids\": [\"Italy\", \"US\"], \"legendgroup\": \"\", \"marker\": {\"color\": \"#636efa\"}, \"name\": \"\", \"offsetgroup\": \"\", \"orientation\": \"v\", \"showlegend\": false, \"textposition\": \"auto\", \"x\": [\"Italy\", \"US\"], \"xaxis\": \"x\", \"y\": [5560.0, 8873.0], \"yaxis\": \"y\", \"type\": \"bar\"}], \"name\": \"2020-03-22\"}, {\"data\": [{\"alignmentgroup\": \"True\", \"hovertemplate\": \"<b>%{hovertext}</b><br><br>Date=2020-04-01<br>Country=%{x}<br>New Confirmed=%{y}<extra></extra>\", \"hovertext\": [\"Italy\", \"US\"], \"ids\": [\"Italy\", \"US\"], \"legendgroup\": \"\", \"marker\": {\"color\": \"#636efa\"}, \"name\": \"\", \"offsetgroup\": \"\", \"orientation\": \"v\", \"showlegend\": false, \"textposition\": \"auto\", \"x\": [\"Italy\", \"US\"], \"xaxis\": \"x\", \"y\": [4782.0, 32243.0], \"yaxis\": \"y\", \"type\": \"bar\"}], \"name\": \"2020-04-01\"}, {\"data\": [{\"alignmentgroup\": \"True\", \"hovertemplate\": \"<b>%{hovertext}</b><br><br>Date=2020-04-11<br>Country=%{x}<br>New Confirmed=%{y}<extra></extra>\", \"hovertext\": [\"Italy\", \"US\"], \"ids\": [\"Italy\", \"US\"], \"legendgroup\": \"\", \"marker\": {\"color\": \"#636efa\"}, \"name\": \"\", \"offsetgroup\": \"\", \"orientation\": \"v\", \"showlegend\": false, \"textposition\": \"auto\", \"x\": [\"Italy\", \"US\"], \"xaxis\": \"x\", \"y\": [4694.0, 29130.0], \"yaxis\": \"y\", \"type\": \"bar\"}], \"name\": \"2020-04-11\"}, {\"data\": [{\"alignmentgroup\": \"True\", \"hovertemplate\": \"<b>%{hovertext}</b><br><br>Date=2020-04-21<br>Country=%{x}<br>New Confirmed=%{y}<extra></extra>\", \"hovertext\": [\"Italy\", \"US\"], \"ids\": [\"Italy\", \"US\"], \"legendgroup\": \"\", \"marker\": {\"color\": \"#636efa\"}, \"name\": \"\", \"offsetgroup\": \"\", \"orientation\": \"v\", \"showlegend\": false, \"textposition\": \"auto\", \"x\": [\"Italy\", \"US\"], \"xaxis\": \"x\", \"y\": [2729.0, 25917.0], \"yaxis\": \"y\", \"type\": \"bar\"}], \"name\": \"2020-04-21\"}, {\"data\": [{\"alignmentgroup\": \"True\", \"hovertemplate\": \"<b>%{hovertext}</b><br><br>Date=2020-05-01<br>Country=%{x}<br>New Confirmed=%{y}<extra></extra>\", \"hovertext\": [\"Italy\", \"US\"], \"ids\": [\"Italy\", \"US\"], \"legendgroup\": \"\", \"marker\": {\"color\": \"#636efa\"}, \"name\": \"\", \"offsetgroup\": \"\", \"orientation\": \"v\", \"showlegend\": false, \"textposition\": \"auto\", \"x\": [\"Italy\", \"US\"], \"xaxis\": \"x\", \"y\": [1965.0, 34926.0], \"yaxis\": \"y\", \"type\": \"bar\"}], \"name\": \"2020-05-01\"}, {\"data\": [{\"alignmentgroup\": \"True\", \"hovertemplate\": \"<b>%{hovertext}</b><br><br>Date=2020-05-11<br>Country=%{x}<br>New Confirmed=%{y}<extra></extra>\", \"hovertext\": [\"Italy\", \"US\"], \"ids\": [\"Italy\", \"US\"], \"legendgroup\": \"\", \"marker\": {\"color\": \"#636efa\"}, \"name\": \"\", \"offsetgroup\": \"\", \"orientation\": \"v\", \"showlegend\": false, \"textposition\": \"auto\", \"x\": [\"Italy\", \"US\"], \"xaxis\": \"x\", \"y\": [744.0, 19271.0], \"yaxis\": \"y\", \"type\": \"bar\"}], \"name\": \"2020-05-11\"}, {\"data\": [{\"alignmentgroup\": \"True\", \"hovertemplate\": \"<b>%{hovertext}</b><br><br>Date=2020-05-21<br>Country=%{x}<br>New Confirmed=%{y}<extra></extra>\", \"hovertext\": [\"Italy\", \"US\"], \"ids\": [\"Italy\", \"US\"], \"legendgroup\": \"\", \"marker\": {\"color\": \"#636efa\"}, \"name\": \"\", \"offsetgroup\": \"\", \"orientation\": \"v\", \"showlegend\": false, \"textposition\": \"auto\", \"x\": [\"Italy\", \"US\"], \"xaxis\": \"x\", \"y\": [642.0, 25766.0], \"yaxis\": \"y\", \"type\": \"bar\"}], \"name\": \"2020-05-21\"}, {\"data\": [{\"alignmentgroup\": \"True\", \"hovertemplate\": \"<b>%{hovertext}</b><br><br>Date=2020-05-31<br>Country=%{x}<br>New Confirmed=%{y}<extra></extra>\", \"hovertext\": [\"Italy\", \"US\"], \"ids\": [\"Italy\", \"US\"], \"legendgroup\": \"\", \"marker\": {\"color\": \"#636efa\"}, \"name\": \"\", \"offsetgroup\": \"\", \"orientation\": \"v\", \"showlegend\": false, \"textposition\": \"auto\", \"x\": [\"Italy\", \"US\"], \"xaxis\": \"x\", \"y\": [333.0, 18987.0], \"yaxis\": \"y\", \"type\": \"bar\"}], \"name\": \"2020-05-31\"}, {\"data\": [{\"alignmentgroup\": \"True\", \"hovertemplate\": \"<b>%{hovertext}</b><br><br>Date=2020-06-10<br>Country=%{x}<br>New Confirmed=%{y}<extra></extra>\", \"hovertext\": [\"Italy\", \"US\"], \"ids\": [\"Italy\", \"US\"], \"legendgroup\": \"\", \"marker\": {\"color\": \"#636efa\"}, \"name\": \"\", \"offsetgroup\": \"\", \"orientation\": \"v\", \"showlegend\": false, \"textposition\": \"auto\", \"x\": [\"Italy\", \"US\"], \"xaxis\": \"x\", \"y\": [202.0, 21110.0], \"yaxis\": \"y\", \"type\": \"bar\"}], \"name\": \"2020-06-10\"}, {\"data\": [{\"alignmentgroup\": \"True\", \"hovertemplate\": \"<b>%{hovertext}</b><br><br>Date=2020-06-20<br>Country=%{x}<br>New Confirmed=%{y}<extra></extra>\", \"hovertext\": [\"Italy\", \"US\"], \"ids\": [\"Italy\", \"US\"], \"legendgroup\": \"\", \"marker\": {\"color\": \"#636efa\"}, \"name\": \"\", \"offsetgroup\": \"\", \"orientation\": \"v\", \"showlegend\": false, \"textposition\": \"auto\", \"x\": [\"Italy\", \"US\"], \"xaxis\": \"x\", \"y\": [264.0, 32269.0], \"yaxis\": \"y\", \"type\": \"bar\"}], \"name\": \"2020-06-20\"}, {\"data\": [{\"alignmentgroup\": \"True\", \"hovertemplate\": \"<b>%{hovertext}</b><br><br>Date=2020-06-30<br>Country=%{x}<br>New Confirmed=%{y}<extra></extra>\", \"hovertext\": [\"Italy\", \"US\"], \"ids\": [\"Italy\", \"US\"], \"legendgroup\": \"\", \"marker\": {\"color\": \"#636efa\"}, \"name\": \"\", \"offsetgroup\": \"\", \"orientation\": \"v\", \"showlegend\": false, \"textposition\": \"auto\", \"x\": [\"Italy\", \"US\"], \"xaxis\": \"x\", \"y\": [142.0, 46426.0], \"yaxis\": \"y\", \"type\": \"bar\"}], \"name\": \"2020-06-30\"}, {\"data\": [{\"alignmentgroup\": \"True\", \"hovertemplate\": \"<b>%{hovertext}</b><br><br>Date=2020-07-10<br>Country=%{x}<br>New Confirmed=%{y}<extra></extra>\", \"hovertext\": [\"Italy\", \"US\"], \"ids\": [\"Italy\", \"US\"], \"legendgroup\": \"\", \"marker\": {\"color\": \"#636efa\"}, \"name\": \"\", \"offsetgroup\": \"\", \"orientation\": \"v\", \"showlegend\": false, \"textposition\": \"auto\", \"x\": [\"Italy\", \"US\"], \"xaxis\": \"x\", \"y\": [276.0, 68039.0], \"yaxis\": \"y\", \"type\": \"bar\"}], \"name\": \"2020-07-10\"}, {\"data\": [{\"alignmentgroup\": \"True\", \"hovertemplate\": \"<b>%{hovertext}</b><br><br>Date=2020-07-20<br>Country=%{x}<br>New Confirmed=%{y}<extra></extra>\", \"hovertext\": [\"Italy\", \"US\"], \"ids\": [\"Italy\", \"US\"], \"legendgroup\": \"\", \"marker\": {\"color\": \"#636efa\"}, \"name\": \"\", \"offsetgroup\": \"\", \"orientation\": \"v\", \"showlegend\": false, \"textposition\": \"auto\", \"x\": [\"Italy\", \"US\"], \"xaxis\": \"x\", \"y\": [190.0, 62082.0], \"yaxis\": \"y\", \"type\": \"bar\"}], \"name\": \"2020-07-20\"}, {\"data\": [{\"alignmentgroup\": \"True\", \"hovertemplate\": \"<b>%{hovertext}</b><br><br>Date=2020-07-30<br>Country=%{x}<br>New Confirmed=%{y}<extra></extra>\", \"hovertext\": [\"Italy\", \"US\"], \"ids\": [\"Italy\", \"US\"], \"legendgroup\": \"\", \"marker\": {\"color\": \"#636efa\"}, \"name\": \"\", \"offsetgroup\": \"\", \"orientation\": \"v\", \"showlegend\": false, \"textposition\": \"auto\", \"x\": [\"Italy\", \"US\"], \"xaxis\": \"x\", \"y\": [382.0, 67418.0], \"yaxis\": \"y\", \"type\": \"bar\"}], \"name\": \"2020-07-30\"}, {\"data\": [{\"alignmentgroup\": \"True\", \"hovertemplate\": \"<b>%{hovertext}</b><br><br>Date=2020-08-09<br>Country=%{x}<br>New Confirmed=%{y}<extra></extra>\", \"hovertext\": [\"Italy\", \"US\"], \"ids\": [\"Italy\", \"US\"], \"legendgroup\": \"\", \"marker\": {\"color\": \"#636efa\"}, \"name\": \"\", \"offsetgroup\": \"\", \"orientation\": \"v\", \"showlegend\": false, \"textposition\": \"auto\", \"x\": [\"Italy\", \"US\"], \"xaxis\": \"x\", \"y\": [463.0, 45748.0], \"yaxis\": \"y\", \"type\": \"bar\"}], \"name\": \"2020-08-09\"}, {\"data\": [{\"alignmentgroup\": \"True\", \"hovertemplate\": \"<b>%{hovertext}</b><br><br>Date=2020-08-19<br>Country=%{x}<br>New Confirmed=%{y}<extra></extra>\", \"hovertext\": [\"Italy\", \"US\"], \"ids\": [\"Italy\", \"US\"], \"legendgroup\": \"\", \"marker\": {\"color\": \"#636efa\"}, \"name\": \"\", \"offsetgroup\": \"\", \"orientation\": \"v\", \"showlegend\": false, \"textposition\": \"auto\", \"x\": [\"Italy\", \"US\"], \"xaxis\": \"x\", \"y\": [642.0, 47347.0], \"yaxis\": \"y\", \"type\": \"bar\"}], \"name\": \"2020-08-19\"}, {\"data\": [{\"alignmentgroup\": \"True\", \"hovertemplate\": \"<b>%{hovertext}</b><br><br>Date=2020-08-29<br>Country=%{x}<br>New Confirmed=%{y}<extra></extra>\", \"hovertext\": [\"Italy\", \"US\"], \"ids\": [\"Italy\", \"US\"], \"legendgroup\": \"\", \"marker\": {\"color\": \"#636efa\"}, \"name\": \"\", \"offsetgroup\": \"\", \"orientation\": \"v\", \"showlegend\": false, \"textposition\": \"auto\", \"x\": [\"Italy\", \"US\"], \"xaxis\": \"x\", \"y\": [1444.0, 42676.0], \"yaxis\": \"y\", \"type\": \"bar\"}], \"name\": \"2020-08-29\"}, {\"data\": [{\"alignmentgroup\": \"True\", \"hovertemplate\": \"<b>%{hovertext}</b><br><br>Date=2020-09-08<br>Country=%{x}<br>New Confirmed=%{y}<extra></extra>\", \"hovertext\": [\"Italy\", \"US\"], \"ids\": [\"Italy\", \"US\"], \"legendgroup\": \"\", \"marker\": {\"color\": \"#636efa\"}, \"name\": \"\", \"offsetgroup\": \"\", \"orientation\": \"v\", \"showlegend\": false, \"textposition\": \"auto\", \"x\": [\"Italy\", \"US\"], \"xaxis\": \"x\", \"y\": [1369.0, 27435.0], \"yaxis\": \"y\", \"type\": \"bar\"}], \"name\": \"2020-09-08\"}, {\"data\": [{\"alignmentgroup\": \"True\", \"hovertemplate\": \"<b>%{hovertext}</b><br><br>Date=2020-09-18<br>Country=%{x}<br>New Confirmed=%{y}<extra></extra>\", \"hovertext\": [\"Italy\", \"US\"], \"ids\": [\"Italy\", \"US\"], \"legendgroup\": \"\", \"marker\": {\"color\": \"#636efa\"}, \"name\": \"\", \"offsetgroup\": \"\", \"orientation\": \"v\", \"showlegend\": false, \"textposition\": \"auto\", \"x\": [\"Italy\", \"US\"], \"xaxis\": \"x\", \"y\": [1907.0, 49146.0], \"yaxis\": \"y\", \"type\": \"bar\"}], \"name\": \"2020-09-18\"}, {\"data\": [{\"alignmentgroup\": \"True\", \"hovertemplate\": \"<b>%{hovertext}</b><br><br>Date=2020-09-28<br>Country=%{x}<br>New Confirmed=%{y}<extra></extra>\", \"hovertext\": [\"Italy\", \"US\"], \"ids\": [\"Italy\", \"US\"], \"legendgroup\": \"\", \"marker\": {\"color\": \"#636efa\"}, \"name\": \"\", \"offsetgroup\": \"\", \"orientation\": \"v\", \"showlegend\": false, \"textposition\": \"auto\", \"x\": [\"Italy\", \"US\"], \"xaxis\": \"x\", \"y\": [1494.0, 33203.0], \"yaxis\": \"y\", \"type\": \"bar\"}], \"name\": \"2020-09-28\"}, {\"data\": [{\"alignmentgroup\": \"True\", \"hovertemplate\": \"<b>%{hovertext}</b><br><br>Date=2020-10-08<br>Country=%{x}<br>New Confirmed=%{y}<extra></extra>\", \"hovertext\": [\"Italy\", \"US\"], \"ids\": [\"Italy\", \"US\"], \"legendgroup\": \"\", \"marker\": {\"color\": \"#636efa\"}, \"name\": \"\", \"offsetgroup\": \"\", \"orientation\": \"v\", \"showlegend\": false, \"textposition\": \"auto\", \"x\": [\"Italy\", \"US\"], \"xaxis\": \"x\", \"y\": [4458.0, 58502.0], \"yaxis\": \"y\", \"type\": \"bar\"}], \"name\": \"2020-10-08\"}, {\"data\": [{\"alignmentgroup\": \"True\", \"hovertemplate\": \"<b>%{hovertext}</b><br><br>Date=2020-10-18<br>Country=%{x}<br>New Confirmed=%{y}<extra></extra>\", \"hovertext\": [\"Italy\", \"US\"], \"ids\": [\"Italy\", \"US\"], \"legendgroup\": \"\", \"marker\": {\"color\": \"#636efa\"}, \"name\": \"\", \"offsetgroup\": \"\", \"orientation\": \"v\", \"showlegend\": false, \"textposition\": \"auto\", \"x\": [\"Italy\", \"US\"], \"xaxis\": \"x\", \"y\": [11705.0, 49307.0], \"yaxis\": \"y\", \"type\": \"bar\"}], \"name\": \"2020-10-18\"}, {\"data\": [{\"alignmentgroup\": \"True\", \"hovertemplate\": \"<b>%{hovertext}</b><br><br>Date=2020-10-28<br>Country=%{x}<br>New Confirmed=%{y}<extra></extra>\", \"hovertext\": [\"Italy\", \"US\"], \"ids\": [\"Italy\", \"US\"], \"legendgroup\": \"\", \"marker\": {\"color\": \"#636efa\"}, \"name\": \"\", \"offsetgroup\": \"\", \"orientation\": \"v\", \"showlegend\": false, \"textposition\": \"auto\", \"x\": [\"Italy\", \"US\"], \"xaxis\": \"x\", \"y\": [24988.0, 79190.0], \"yaxis\": \"y\", \"type\": \"bar\"}], \"name\": \"2020-10-28\"}, {\"data\": [{\"alignmentgroup\": \"True\", \"hovertemplate\": \"<b>%{hovertext}</b><br><br>Date=2020-11-07<br>Country=%{x}<br>New Confirmed=%{y}<extra></extra>\", \"hovertext\": [\"Italy\", \"US\"], \"ids\": [\"Italy\", \"US\"], \"legendgroup\": \"\", \"marker\": {\"color\": \"#636efa\"}, \"name\": \"\", \"offsetgroup\": \"\", \"orientation\": \"v\", \"showlegend\": false, \"textposition\": \"auto\", \"x\": [\"Italy\", \"US\"], \"xaxis\": \"x\", \"y\": [39809.0, 127208.0], \"yaxis\": \"y\", \"type\": \"bar\"}], \"name\": \"2020-11-07\"}, {\"data\": [{\"alignmentgroup\": \"True\", \"hovertemplate\": \"<b>%{hovertext}</b><br><br>Date=2020-11-17<br>Country=%{x}<br>New Confirmed=%{y}<extra></extra>\", \"hovertext\": [\"Italy\", \"US\"], \"ids\": [\"Italy\", \"US\"], \"legendgroup\": \"\", \"marker\": {\"color\": \"#636efa\"}, \"name\": \"\", \"offsetgroup\": \"\", \"orientation\": \"v\", \"showlegend\": false, \"textposition\": \"auto\", \"x\": [\"Italy\", \"US\"], \"xaxis\": \"x\", \"y\": [32191.0, 163437.0], \"yaxis\": \"y\", \"type\": \"bar\"}], \"name\": \"2020-11-17\"}, {\"data\": [{\"alignmentgroup\": \"True\", \"hovertemplate\": \"<b>%{hovertext}</b><br><br>Date=2020-11-27<br>Country=%{x}<br>New Confirmed=%{y}<extra></extra>\", \"hovertext\": [\"Italy\", \"US\"], \"ids\": [\"Italy\", \"US\"], \"legendgroup\": \"\", \"marker\": {\"color\": \"#636efa\"}, \"name\": \"\", \"offsetgroup\": \"\", \"orientation\": \"v\", \"showlegend\": false, \"textposition\": \"auto\", \"x\": [\"Italy\", \"US\"], \"xaxis\": \"x\", \"y\": [28342.0, 208007.0], \"yaxis\": \"y\", \"type\": \"bar\"}], \"name\": \"2020-11-27\"}, {\"data\": [{\"alignmentgroup\": \"True\", \"hovertemplate\": \"<b>%{hovertext}</b><br><br>Date=2020-12-07<br>Country=%{x}<br>New Confirmed=%{y}<extra></extra>\", \"hovertext\": [\"Italy\", \"US\"], \"ids\": [\"Italy\", \"US\"], \"legendgroup\": \"\", \"marker\": {\"color\": \"#636efa\"}, \"name\": \"\", \"offsetgroup\": \"\", \"orientation\": \"v\", \"showlegend\": false, \"textposition\": \"auto\", \"x\": [\"Italy\", \"US\"], \"xaxis\": \"x\", \"y\": [13679.0, 194591.0], \"yaxis\": \"y\", \"type\": \"bar\"}], \"name\": \"2020-12-07\"}, {\"data\": [{\"alignmentgroup\": \"True\", \"hovertemplate\": \"<b>%{hovertext}</b><br><br>Date=2020-12-17<br>Country=%{x}<br>New Confirmed=%{y}<extra></extra>\", \"hovertext\": [\"Italy\", \"US\"], \"ids\": [\"Italy\", \"US\"], \"legendgroup\": \"\", \"marker\": {\"color\": \"#636efa\"}, \"name\": \"\", \"offsetgroup\": \"\", \"orientation\": \"v\", \"showlegend\": false, \"textposition\": \"auto\", \"x\": [\"Italy\", \"US\"], \"xaxis\": \"x\", \"y\": [18233.0, 239077.0], \"yaxis\": \"y\", \"type\": \"bar\"}], \"name\": \"2020-12-17\"}, {\"data\": [{\"alignmentgroup\": \"True\", \"hovertemplate\": \"<b>%{hovertext}</b><br><br>Date=2020-12-27<br>Country=%{x}<br>New Confirmed=%{y}<extra></extra>\", \"hovertext\": [\"Italy\", \"US\"], \"ids\": [\"Italy\", \"US\"], \"legendgroup\": \"\", \"marker\": {\"color\": \"#636efa\"}, \"name\": \"\", \"offsetgroup\": \"\", \"orientation\": \"v\", \"showlegend\": false, \"textposition\": \"auto\", \"x\": [\"Italy\", \"US\"], \"xaxis\": \"x\", \"y\": [8937.0, 155688.0], \"yaxis\": \"y\", \"type\": \"bar\"}], \"name\": \"2020-12-27\"}, {\"data\": [{\"alignmentgroup\": \"True\", \"hovertemplate\": \"<b>%{hovertext}</b><br><br>Date=2021-01-06<br>Country=%{x}<br>New Confirmed=%{y}<extra></extra>\", \"hovertext\": [\"Italy\", \"US\"], \"ids\": [\"Italy\", \"US\"], \"legendgroup\": \"\", \"marker\": {\"color\": \"#636efa\"}, \"name\": \"\", \"offsetgroup\": \"\", \"orientation\": \"v\", \"showlegend\": false, \"textposition\": \"auto\", \"x\": [\"Italy\", \"US\"], \"xaxis\": \"x\", \"y\": [20326.0, 253917.0], \"yaxis\": \"y\", \"type\": \"bar\"}], \"name\": \"2021-01-06\"}, {\"data\": [{\"alignmentgroup\": \"True\", \"hovertemplate\": \"<b>%{hovertext}</b><br><br>Date=2021-01-16<br>Country=%{x}<br>New Confirmed=%{y}<extra></extra>\", \"hovertext\": [\"Italy\", \"US\"], \"ids\": [\"Italy\", \"US\"], \"legendgroup\": \"\", \"marker\": {\"color\": \"#636efa\"}, \"name\": \"\", \"offsetgroup\": \"\", \"orientation\": \"v\", \"showlegend\": false, \"textposition\": \"auto\", \"x\": [\"Italy\", \"US\"], \"xaxis\": \"x\", \"y\": [16310.0, 200764.0], \"yaxis\": \"y\", \"type\": \"bar\"}], \"name\": \"2021-01-16\"}, {\"data\": [{\"alignmentgroup\": \"True\", \"hovertemplate\": \"<b>%{hovertext}</b><br><br>Date=2021-01-26<br>Country=%{x}<br>New Confirmed=%{y}<extra></extra>\", \"hovertext\": [\"Italy\", \"US\"], \"ids\": [\"Italy\", \"US\"], \"legendgroup\": \"\", \"marker\": {\"color\": \"#636efa\"}, \"name\": \"\", \"offsetgroup\": \"\", \"orientation\": \"v\", \"showlegend\": false, \"textposition\": \"auto\", \"x\": [\"Italy\", \"US\"], \"xaxis\": \"x\", \"y\": [10584.0, 146597.0], \"yaxis\": \"y\", \"type\": \"bar\"}], \"name\": \"2021-01-26\"}, {\"data\": [{\"alignmentgroup\": \"True\", \"hovertemplate\": \"<b>%{hovertext}</b><br><br>Date=2021-02-05<br>Country=%{x}<br>New Confirmed=%{y}<extra></extra>\", \"hovertext\": [\"Italy\", \"US\"], \"ids\": [\"Italy\", \"US\"], \"legendgroup\": \"\", \"marker\": {\"color\": \"#636efa\"}, \"name\": \"\", \"offsetgroup\": \"\", \"orientation\": \"v\", \"showlegend\": false, \"textposition\": \"auto\", \"x\": [\"Italy\", \"US\"], \"xaxis\": \"x\", \"y\": [14213.0, 133558.0], \"yaxis\": \"y\", \"type\": \"bar\"}], \"name\": \"2021-02-05\"}]);\n",
       "                        }).then(function(){\n",
       "                            \n",
       "var gd = document.getElementById('e4e3044b-fe46-43db-bd35-69a61f57de3f');\n",
       "var x = new MutationObserver(function (mutations, observer) {{\n",
       "        var display = window.getComputedStyle(gd).display;\n",
       "        if (!display || display === 'none') {{\n",
       "            console.log([gd, 'removed!']);\n",
       "            Plotly.purge(gd);\n",
       "            observer.disconnect();\n",
       "        }}\n",
       "}});\n",
       "\n",
       "// Listen for the removal of the full notebook cells\n",
       "var notebookContainer = gd.closest('#notebook-container');\n",
       "if (notebookContainer) {{\n",
       "    x.observe(notebookContainer, {childList: true});\n",
       "}}\n",
       "\n",
       "// Listen for the clearing of the current output cell\n",
       "var outputEl = gd.closest('.output');\n",
       "if (outputEl) {{\n",
       "    x.observe(outputEl, {childList: true});\n",
       "}}\n",
       "\n",
       "                        })                };                });            </script>        </div>"
      ]
     },
     "metadata": {},
     "output_type": "display_data"
    }
   ],
   "source": [
    "global_bar_graph_plotly(df, countries=[\"Italy\", \"US\"])"
   ]
  },
  {
   "cell_type": "code",
   "execution_count": null,
   "metadata": {},
   "outputs": [],
   "source": [
    "#Better plots with plotly\n",
    "def country_plotting_plotly(df, country, field=\"New Confirmed\"):\n",
    "    if (field not in df.columns):\n",
    "        print(\"Field doesn't exists\")\n",
    "        return -1\n",
    "    elif field not in [\"Confirmed\", \"New Confirmed\"]:\n",
    "        print(\"Invalid field\")\n",
    "        return -1\n",
    "    \n",
    "    country = df.loc[df[\"Country\"] == country]\n",
    "    \n",
    "    fig = px.line(country, x=\"Date\", y=field, hover_name=field)\n",
    "    fig.show()"
   ]
  },
  {
   "cell_type": "code",
   "execution_count": 144,
   "metadata": {},
   "outputs": [
    {
     "ename": "NameError",
     "evalue": "name 'country_plotting_plotly' is not defined",
     "output_type": "error",
     "traceback": [
      "\u001b[0;31m---------------------------------------------------------------------------\u001b[0m",
      "\u001b[0;31mNameError\u001b[0m                                 Traceback (most recent call last)",
      "\u001b[0;32m<ipython-input-144-2766b0f36391>\u001b[0m in \u001b[0;36m<module>\u001b[0;34m\u001b[0m\n\u001b[0;32m----> 1\u001b[0;31m \u001b[0mcountry_plotting_plotly\u001b[0m\u001b[0;34m(\u001b[0m\u001b[0mdf\u001b[0m\u001b[0;34m,\u001b[0m \u001b[0;34m\"US\"\u001b[0m\u001b[0;34m)\u001b[0m\u001b[0;34m\u001b[0m\u001b[0;34m\u001b[0m\u001b[0m\n\u001b[0m",
      "\u001b[0;31mNameError\u001b[0m: name 'country_plotting_plotly' is not defined"
     ]
    }
   ],
   "source": [
    "country_plotting_plotly(df, \"US\")"
   ]
  },
  {
   "cell_type": "code",
   "execution_count": null,
   "metadata": {},
   "outputs": [],
   "source": []
  }
 ],
 "metadata": {
  "kernelspec": {
   "display_name": "Python 3",
   "language": "python",
   "name": "python3"
  },
  "language_info": {
   "codemirror_mode": {
    "name": "ipython",
    "version": 3
   },
   "file_extension": ".py",
   "mimetype": "text/x-python",
   "name": "python",
   "nbconvert_exporter": "python",
   "pygments_lexer": "ipython3",
   "version": "3.9.1"
  }
 },
 "nbformat": 4,
 "nbformat_minor": 4
}
